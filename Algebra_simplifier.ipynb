{
 "cells": [
  {
   "cell_type": "code",
   "execution_count": 10,
   "metadata": {},
   "outputs": [
    {
     "name": "stdout",
     "output_type": "stream",
     "text": [
      "⎡2⋅ψ₁   ψ₂                        ⎤\n",
      "⎢──── - ──       0           0    ⎥\n",
      "⎢ 3     3                         ⎥\n",
      "⎢                                 ⎥\n",
      "⎢             ψ₁   2⋅ψ₂           ⎥\n",
      "⎢    0      - ── + ────      0    ⎥\n",
      "⎢             3     3             ⎥\n",
      "⎢                                 ⎥\n",
      "⎢                          ψ₁   ψ₂⎥\n",
      "⎢    0           0       - ── - ──⎥\n",
      "⎣                          3    3 ⎦\n",
      "            ⎛  __   __⎞                 ⎛  __     __⎞               ⎛  __   __\n",
      "⎛  ψ₁   ψ₂⎞ ⎜  ψ₁   ψ₂⎟   ⎛  ψ₁   2⋅ψ₂⎞ ⎜  ψ₁   2⋅ψ₂⎟   ⎛2⋅ψ₁   ψ₂⎞ ⎜2⋅ψ₁   ψ₂\n",
      "⎜- ── - ──⎟⋅⎜- ── - ──⎟ + ⎜- ── + ────⎟⋅⎜- ── + ────⎟ + ⎜──── - ──⎟⋅⎜──── - ──\n",
      "⎝  3    3 ⎠ ⎝  3    3 ⎠   ⎝  3     3  ⎠ ⎝  3     3  ⎠   ⎝ 3     3 ⎠ ⎝ 3     3 \n",
      "\n",
      "⎞\n",
      "⎟\n",
      "⎟\n",
      "⎠\n",
      "2⋅ψ₁   ψ₂\n",
      "──── - ──\n",
      " 3     3 \n"
     ]
    }
   ],
   "source": [
    "import sympy as sp\n",
    "from sympy import pretty_print\n",
    "##preliminaries wlog we may choose vectors n and m to be [1,0,0] and [0,1,0]\n",
    "psi1, psi2 = sp.symbols('psi1 psi2', complex=True)\n",
    "n_vec = sp.Matrix([1,0,0])\n",
    "m_vec = sp.Matrix([0,1,0])\n",
    "d = 3    \n",
    "\n",
    "# E_{ij} tensor\n",
    "E = psi1*(n_vec*n_vec.T - sp.eye(3)/d) + psi2*(m_vec*m_vec.T - sp.eye(3)/d)\n",
    "pretty_print(E)\n",
    "#just testing symbolic computations & derivation first bul term\n",
    "S = sum(E[i,j] * sp.conjugate(E[i,j]) for i in range(3) for j in range(3))\n",
    "pretty_print(S)\n",
    "\n",
    "psi1c, psi2c = sp.symbols('psi1c psi2c', complex=True)\n",
    "S_sub = sp.expand(S).subs({sp.conjugate(psi1): psi1c, sp.conjugate(psi2): psi2c})\n",
    "dS_sub = sp.diff(S_sub, psi1c)\n",
    "result = sp.simplify(dS_sub)\n",
    "pretty_print(result)  # outputs 2*psi1 + psi2"
   ]
  },
  {
   "cell_type": "markdown",
   "metadata": {},
   "source": [
    "Calculating the $F_{bulk}$ symbolically"
   ]
  },
  {
   "cell_type": "code",
   "execution_count": 47,
   "metadata": {},
   "outputs": [
    {
     "data": {
      "text/latex": [
       "$\\displaystyle \\frac{A \\psi_{1}}{3} + \\frac{2 B \\psi_{1}^{2} \\overline{\\psi_{1}}}{9} + \\frac{D \\psi_{1}^{2} \\overline{\\psi_{1}}}{9}$"
      ],
      "text/plain": [
       "A*psi1/3 + 2*B*psi1**2*conjugate(psi1)/9 + D*psi1**2*conjugate(psi1)/9"
      ]
     },
     "execution_count": 47,
     "metadata": {},
     "output_type": "execute_result"
    }
   ],
   "source": [
    "##Original A and C terms in the bulk\n",
    "A, C , D= sp.symbols('A B D', real=True)\n",
    "A1 = sum(E[i,j] * sp.conjugate(E[i,j]) for i in range(3) for j in range(3))\n",
    "C1 = A1 * A1\n",
    "C2 = sum(\n",
    "    E[i, k] * sp.conjugate(E[k, j]) *\n",
    "    E[j, l] * sp.conjugate(E[l, i])\n",
    "    for i in range(3)\n",
    "    for k in range(3)\n",
    "    for j in range(3)\n",
    "    for l in range(3)\n",
    ")\n",
    "Fbulk = A * A1 /2 + C * C1 /4 + D * C2 /4\n",
    "F_sub = sp.expand(Fbulk).subs({sp.conjugate(psi1): psi1c, sp.conjugate(psi2): psi2c})\n",
    "F_diff = sp.diff(F_sub, psi1c)\n",
    "result1 = sp.simplify(F_diff)\n",
    "sp.simplify(result1)\n",
    "fsimp= sp.expand(result1).subs({psi2:0 , psi2c: 0,psi1c: sp.conjugate(psi1)})\n",
    "sp.expand(fsimp)\n",
    "\n"
   ]
  },
  {
   "cell_type": "markdown",
   "metadata": {},
   "source": [
    "So the the fixed point associated to $\\cfrac{\\delta F_{bulk}}{\\delta \\psi^{*}_{1}}|_{\\psi_{2}=0}=0$ is given by $|\\psi_{1}|= \\sqrt{\\cfrac{-3A}{2B+D}}$ "
   ]
  }
 ],
 "metadata": {
  "kernelspec": {
   "display_name": "base",
   "language": "python",
   "name": "python3"
  },
  "language_info": {
   "codemirror_mode": {
    "name": "ipython",
    "version": 3
   },
   "file_extension": ".py",
   "mimetype": "text/x-python",
   "name": "python",
   "nbconvert_exporter": "python",
   "pygments_lexer": "ipython3",
   "version": "3.9.13"
  }
 },
 "nbformat": 4,
 "nbformat_minor": 2
}
