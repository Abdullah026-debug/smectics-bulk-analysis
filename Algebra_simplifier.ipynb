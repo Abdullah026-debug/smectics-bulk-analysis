{
 "cells": [
  {
   "cell_type": "markdown",
   "metadata": {},
   "source": [
    "#  unixial symmetry analysis"
   ]
  },
  {
   "cell_type": "markdown",
   "metadata": {},
   "source": [
    "#### Notes (mostly to myself):\n",
    "\n",
    "<ul>\n",
    "  <li>The algebra done here are all for d=3 but can easily be implemented to d=2 if needed. One can check via the overleaf doc if it agrees with calculoations done there often I shall do it.</li>\n",
    "  <li>Im going to be picking explicit vectors <strong>n</strong>,<strong>m</strong>  as this dosent change of any of the calculations as we work with scalars (hence wlog)</li>\n",
    "  <li>References: I shall try my best to provide a source/references to any \"statments\" of stability but feel free to ask about things</li>\n",
    "  <li> The plots after the real hessian is wrong i.e I used the complex hessian not the full one at the moment I have not edited it out yet in case its useful </li>\n",
    "</ul>"
   ]
  },
  {
   "cell_type": "markdown",
   "metadata": {},
   "source": [
    "## 1. Algebra check"
   ]
  },
  {
   "cell_type": "code",
   "execution_count": 397,
   "metadata": {},
   "outputs": [
    {
     "name": "stdout",
     "output_type": "stream",
     "text": [
      "⎡2⋅ψ₁   ψ₂                        ⎤\n",
      "⎢──── - ──       0           0    ⎥\n",
      "⎢ 3     3                         ⎥\n",
      "⎢                                 ⎥\n",
      "⎢             ψ₁   2⋅ψ₂           ⎥\n",
      "⎢    0      - ── + ────      0    ⎥\n",
      "⎢             3     3             ⎥\n",
      "⎢                                 ⎥\n",
      "⎢                          ψ₁   ψ₂⎥\n",
      "⎢    0           0       - ── - ──⎥\n",
      "⎣                          3    3 ⎦\n",
      "            ⎛  __   __⎞                 ⎛  __     __⎞               ⎛  __   __\n",
      "⎛  ψ₁   ψ₂⎞ ⎜  ψ₁   ψ₂⎟   ⎛  ψ₁   2⋅ψ₂⎞ ⎜  ψ₁   2⋅ψ₂⎟   ⎛2⋅ψ₁   ψ₂⎞ ⎜2⋅ψ₁   ψ₂\n",
      "⎜- ── - ──⎟⋅⎜- ── - ──⎟ + ⎜- ── + ────⎟⋅⎜- ── + ────⎟ + ⎜──── - ──⎟⋅⎜──── - ──\n",
      "⎝  3    3 ⎠ ⎝  3    3 ⎠   ⎝  3     3  ⎠ ⎝  3     3  ⎠   ⎝ 3     3 ⎠ ⎝ 3     3 \n",
      "\n",
      "⎞\n",
      "⎟\n",
      "⎟\n",
      "⎠\n",
      "2⋅ψ₁   ψ₂\n",
      "──── - ──\n",
      " 3     3 \n"
     ]
    }
   ],
   "source": [
    "import sympy as sp\n",
    "from sympy import pretty_print\n",
    "##preliminaries wlog we may choose vectors n and m to be [1,0,0] and [0,1,0]\n",
    "psi1, psi2 = sp.symbols('psi1 psi2', complex=True)\n",
    "n_vec = sp.Matrix([1,0,0])\n",
    "m_vec = sp.Matrix([0,1,0])\n",
    "d = 3    \n",
    "\n",
    "# E_{ij} tensor\n",
    "E = psi1*(n_vec*n_vec.T - sp.eye(3)/d) + psi2*(m_vec*m_vec.T - sp.eye(3)/d)\n",
    "pretty_print(E)\n",
    "#just testing symbolic computations & derivation first bul term\n",
    "S = sum(E[i,j] * sp.conjugate(E[i,j]) for i in range(3) for j in range(3))\n",
    "pretty_print(S)\n",
    "\n",
    "psi1c, psi2c = sp.symbols('psi1c psi2c', complex=True)\n",
    "S_sub = sp.expand(S).subs({sp.conjugate(psi1): psi1c, sp.conjugate(psi2): psi2c})\n",
    "dS_sub = sp.diff(S_sub, psi1c)\n",
    "result = sp.simplify(dS_sub)\n",
    "pretty_print(result)  # outputs 2*psi1 + psi2"
   ]
  },
  {
   "cell_type": "markdown",
   "metadata": {},
   "source": [
    "### Calculating the $F_{bulk}$ symbolically in terms of $\\psi_{i}$'s :"
   ]
  },
  {
   "cell_type": "code",
   "execution_count": 398,
   "metadata": {},
   "outputs": [
    {
     "data": {
      "text/latex": [
       "$\\displaystyle \\frac{A \\psi_{1}}{3} + \\frac{2 C \\psi_{1}^{2} \\overline{\\psi_{1}}}{9} + \\frac{D \\psi_{1}^{2} \\overline{\\psi_{1}}}{9}$"
      ],
      "text/plain": [
       "A*psi1/3 + 2*C*psi1**2*conjugate(psi1)/9 + D*psi1**2*conjugate(psi1)/9"
      ]
     },
     "execution_count": 398,
     "metadata": {},
     "output_type": "execute_result"
    }
   ],
   "source": [
    "##Original A and C terms in the bulk\n",
    "A, C , D , G= sp.symbols('A C D G', real=True)\n",
    "A1 = sum(E[i,j] * sp.conjugate(E[i,j]) for i in range(3) for j in range(3))\n",
    "C1 = A1 * A1\n",
    "C2 = sum(\n",
    "    E[i, k] * sp.conjugate(E[k, j]) *\n",
    "    E[j, l] * sp.conjugate(E[l, i])\n",
    "    for i in range(3)\n",
    "    for k in range(3)\n",
    "    for j in range(3)\n",
    "    for l in range(3)\n",
    ")\n",
    "T3 = sum ( E[i, k] * E[k, j] *\n",
    "    E[j, i]  for i in range(3)\n",
    "    for k in range(3)\n",
    "    for j in range(3)) \n",
    "##G1 = T3 * sp.conjugate(T3)\n",
    "G1 = A1**3\n",
    "Fbulk = A * A1 /2 + C * C1 /4 + D * C2 /4\n",
    "F_sub = sp.expand(Fbulk).subs({sp.conjugate(psi1): psi1c, sp.conjugate(psi2): psi2c})\n",
    "F_diff = sp.diff(F_sub, psi1c)\n",
    "result1 = sp.simplify(F_diff)\n",
    "sp.simplify(result1)\n",
    "fsimp= sp.expand(result1).subs({psi2:0 , psi2c: 0,psi1c: sp.conjugate(psi1)})\n",
    "sp.expand(fsimp)\n",
    "\n",
    "\n",
    "\n",
    "\n"
   ]
  },
  {
   "cell_type": "markdown",
   "metadata": {},
   "source": [
    "#### $A$ term /  $E_{ij}E^{*}_{ij}$ :"
   ]
  },
  {
   "cell_type": "code",
   "execution_count": 399,
   "metadata": {},
   "outputs": [
    {
     "data": {
      "text/latex": [
       "$\\displaystyle \\frac{2 \\psi_{1} \\overline{\\psi_{1}}}{3} - \\frac{\\psi_{1} \\overline{\\psi_{2}}}{3} - \\frac{\\psi_{2} \\overline{\\psi_{1}}}{3} + \\frac{2 \\psi_{2} \\overline{\\psi_{2}}}{3}$"
      ],
      "text/plain": [
       "2*psi1*conjugate(psi1)/3 - psi1*conjugate(psi2)/3 - psi2*conjugate(psi1)/3 + 2*psi2*conjugate(psi2)/3"
      ]
     },
     "execution_count": 399,
     "metadata": {},
     "output_type": "execute_result"
    }
   ],
   "source": [
    "sp.expand(A1)"
   ]
  },
  {
   "cell_type": "markdown",
   "metadata": {},
   "source": [
    "#### $C$ term / $(E_{ij}E^{*}_{ij})^{2}$ :"
   ]
  },
  {
   "cell_type": "code",
   "execution_count": 400,
   "metadata": {},
   "outputs": [
    {
     "data": {
      "text/latex": [
       "$\\displaystyle \\frac{4 \\psi_{1}^{2} \\overline{\\psi_{1}}^{2}}{9} - \\frac{4 \\psi_{1}^{2} \\overline{\\psi_{1}} \\overline{\\psi_{2}}}{9} + \\frac{\\psi_{1}^{2} \\overline{\\psi_{2}}^{2}}{9} - \\frac{4 \\psi_{1} \\psi_{2} \\overline{\\psi_{1}}^{2}}{9} + \\frac{10 \\psi_{1} \\psi_{2} \\overline{\\psi_{1}} \\overline{\\psi_{2}}}{9} - \\frac{4 \\psi_{1} \\psi_{2} \\overline{\\psi_{2}}^{2}}{9} + \\frac{\\psi_{2}^{2} \\overline{\\psi_{1}}^{2}}{9} - \\frac{4 \\psi_{2}^{2} \\overline{\\psi_{1}} \\overline{\\psi_{2}}}{9} + \\frac{4 \\psi_{2}^{2} \\overline{\\psi_{2}}^{2}}{9}$"
      ],
      "text/plain": [
       "4*psi1**2*conjugate(psi1)**2/9 - 4*psi1**2*conjugate(psi1)*conjugate(psi2)/9 + psi1**2*conjugate(psi2)**2/9 - 4*psi1*psi2*conjugate(psi1)**2/9 + 10*psi1*psi2*conjugate(psi1)*conjugate(psi2)/9 - 4*psi1*psi2*conjugate(psi2)**2/9 + psi2**2*conjugate(psi1)**2/9 - 4*psi2**2*conjugate(psi1)*conjugate(psi2)/9 + 4*psi2**2*conjugate(psi2)**2/9"
      ]
     },
     "execution_count": 400,
     "metadata": {},
     "output_type": "execute_result"
    }
   ],
   "source": [
    "sp.expand(C1)"
   ]
  },
  {
   "cell_type": "markdown",
   "metadata": {},
   "source": [
    "#### $\\tilde{C}$ term (to avoid confusion $\\tilde{C} \\rightarrow D$) / $E_{ij}E_{jk}E^{*}_{km}E^{*}_{mi}$:"
   ]
  },
  {
   "cell_type": "code",
   "execution_count": 401,
   "metadata": {},
   "outputs": [
    {
     "data": {
      "text/latex": [
       "$\\displaystyle \\frac{2 \\psi_{1}^{2} \\overline{\\psi_{1}}^{2}}{9} - \\frac{2 \\psi_{1}^{2} \\overline{\\psi_{1}} \\overline{\\psi_{2}}}{9} + \\frac{\\psi_{1}^{2} \\overline{\\psi_{2}}^{2}}{9} - \\frac{2 \\psi_{1} \\psi_{2} \\overline{\\psi_{1}}^{2}}{9} + \\frac{4 \\psi_{1} \\psi_{2} \\overline{\\psi_{1}} \\overline{\\psi_{2}}}{9} - \\frac{2 \\psi_{1} \\psi_{2} \\overline{\\psi_{2}}^{2}}{9} + \\frac{\\psi_{2}^{2} \\overline{\\psi_{1}}^{2}}{9} - \\frac{2 \\psi_{2}^{2} \\overline{\\psi_{1}} \\overline{\\psi_{2}}}{9} + \\frac{2 \\psi_{2}^{2} \\overline{\\psi_{2}}^{2}}{9}$"
      ],
      "text/plain": [
       "2*psi1**2*conjugate(psi1)**2/9 - 2*psi1**2*conjugate(psi1)*conjugate(psi2)/9 + psi1**2*conjugate(psi2)**2/9 - 2*psi1*psi2*conjugate(psi1)**2/9 + 4*psi1*psi2*conjugate(psi1)*conjugate(psi2)/9 - 2*psi1*psi2*conjugate(psi2)**2/9 + psi2**2*conjugate(psi1)**2/9 - 2*psi2**2*conjugate(psi1)*conjugate(psi2)/9 + 2*psi2**2*conjugate(psi2)**2/9"
      ]
     },
     "execution_count": 401,
     "metadata": {},
     "output_type": "execute_result"
    }
   ],
   "source": [
    "sp.expand(C2)"
   ]
  },
  {
   "cell_type": "markdown",
   "metadata": {},
   "source": [
    "Thus the bulk in terms of $\\psi_{i}'$'s is given by "
   ]
  },
  {
   "cell_type": "code",
   "execution_count": 402,
   "metadata": {},
   "outputs": [
    {
     "data": {
      "text/latex": [
       "$\\displaystyle \\frac{A \\psi_{1} \\overline{\\psi_{1}}}{3} - \\frac{A \\psi_{1} \\overline{\\psi_{2}}}{6} - \\frac{A \\psi_{2} \\overline{\\psi_{1}}}{6} + \\frac{A \\psi_{2} \\overline{\\psi_{2}}}{3} + \\frac{C \\psi_{1}^{2} \\overline{\\psi_{1}}^{2}}{9} - \\frac{C \\psi_{1}^{2} \\overline{\\psi_{1}} \\overline{\\psi_{2}}}{9} + \\frac{C \\psi_{1}^{2} \\overline{\\psi_{2}}^{2}}{36} - \\frac{C \\psi_{1} \\psi_{2} \\overline{\\psi_{1}}^{2}}{9} + \\frac{5 C \\psi_{1} \\psi_{2} \\overline{\\psi_{1}} \\overline{\\psi_{2}}}{18} - \\frac{C \\psi_{1} \\psi_{2} \\overline{\\psi_{2}}^{2}}{9} + \\frac{C \\psi_{2}^{2} \\overline{\\psi_{1}}^{2}}{36} - \\frac{C \\psi_{2}^{2} \\overline{\\psi_{1}} \\overline{\\psi_{2}}}{9} + \\frac{C \\psi_{2}^{2} \\overline{\\psi_{2}}^{2}}{9} + \\frac{D \\psi_{1}^{2} \\overline{\\psi_{1}}^{2}}{18} - \\frac{D \\psi_{1}^{2} \\overline{\\psi_{1}} \\overline{\\psi_{2}}}{18} + \\frac{D \\psi_{1}^{2} \\overline{\\psi_{2}}^{2}}{36} - \\frac{D \\psi_{1} \\psi_{2} \\overline{\\psi_{1}}^{2}}{18} + \\frac{D \\psi_{1} \\psi_{2} \\overline{\\psi_{1}} \\overline{\\psi_{2}}}{9} - \\frac{D \\psi_{1} \\psi_{2} \\overline{\\psi_{2}}^{2}}{18} + \\frac{D \\psi_{2}^{2} \\overline{\\psi_{1}}^{2}}{36} - \\frac{D \\psi_{2}^{2} \\overline{\\psi_{1}} \\overline{\\psi_{2}}}{18} + \\frac{D \\psi_{2}^{2} \\overline{\\psi_{2}}^{2}}{18}$"
      ],
      "text/plain": [
       "A*psi1*conjugate(psi1)/3 - A*psi1*conjugate(psi2)/6 - A*psi2*conjugate(psi1)/6 + A*psi2*conjugate(psi2)/3 + C*psi1**2*conjugate(psi1)**2/9 - C*psi1**2*conjugate(psi1)*conjugate(psi2)/9 + C*psi1**2*conjugate(psi2)**2/36 - C*psi1*psi2*conjugate(psi1)**2/9 + 5*C*psi1*psi2*conjugate(psi1)*conjugate(psi2)/18 - C*psi1*psi2*conjugate(psi2)**2/9 + C*psi2**2*conjugate(psi1)**2/36 - C*psi2**2*conjugate(psi1)*conjugate(psi2)/9 + C*psi2**2*conjugate(psi2)**2/9 + D*psi1**2*conjugate(psi1)**2/18 - D*psi1**2*conjugate(psi1)*conjugate(psi2)/18 + D*psi1**2*conjugate(psi2)**2/36 - D*psi1*psi2*conjugate(psi1)**2/18 + D*psi1*psi2*conjugate(psi1)*conjugate(psi2)/9 - D*psi1*psi2*conjugate(psi2)**2/18 + D*psi2**2*conjugate(psi1)**2/36 - D*psi2**2*conjugate(psi1)*conjugate(psi2)/18 + D*psi2**2*conjugate(psi2)**2/18"
      ]
     },
     "execution_count": 402,
     "metadata": {},
     "output_type": "execute_result"
    }
   ],
   "source": [
    "sp.expand(Fbulk)"
   ]
  },
  {
   "cell_type": "markdown",
   "metadata": {},
   "source": [
    "where to be precise with pre factors used:\n",
    "$$F_{bulk} = \\cfrac{A}{2}E_{ij}E^{*}_{ij}+\\cfrac{C}{4}(E_{ij}E^{*}_{ij})^{2}+\\cfrac{D}{4}E_{ij}E^{*}_{jk}E_{kl}E^{*}_{li}.$$"
   ]
  },
  {
   "cell_type": "markdown",
   "metadata": {},
   "source": [
    "## 2. Finding fixed points of dynamics"
   ]
  },
  {
   "cell_type": "markdown",
   "metadata": {},
   "source": [
    "Recall the equation of interest for the non-equillibiurm dynamics was given by\n",
    "$$ \\cfrac{\\partial E_{ij}}{\\partial t} = - \\mu \\cfrac{\\delta F}{\\delta E^{*}_{ij}} $$\n",
    "For now we are interested in $F_{bulk}$ term which only depends only on $E_{ij}$ and not $E_{ij,k}$ but I assume the analysis could be easily generalised to account for the full free energy density (i.e $F = F_{bulk}+F_{comp}+F_{curv}$), Since $F(\\underline{\\underline{E}})$  we may use the Euler lagrange approach for functional derivatives to get\n",
    "\n",
    "$$ \\cfrac{\\partial E_{ij}}{\\partial t} = - \\mu \\cfrac{\\partial F}{\\partial E^{*}_{ij}} .$$\n",
    "\n",
    "Our interest primarily lie in fixed points or rather minima's as these represent the equillibrium points in the phase transition hence we look at when $\\cfrac{\\partial F}{\\partial E^{*}_{ij}} = 0$, however it will prove to be cumborsome to work with tensorial expressions and we rather look at terms that displays biaxial/uniaxial symmetry clearly, hence we shall re express the generalised velocity field via a chain rule i.e\n",
    "\n",
    "$$ \\cfrac{\\partial F}{\\partial E^{*}_{ij}} = \\cfrac{\\partial F}{\\partial \\psi^{*}_{1}} \\cfrac{\\partial \\psi^{*}_{1}}{\\partial E^{*}_{ij}} + \\cfrac{\\partial F}{\\partial \\psi^{*}_{2}} \\cfrac{\\partial \\psi^{*}_{2}}{\\partial E^{*}_{ij}}$$\n",
    "Thus requiring $\\cfrac{\\partial F}{\\partial E^{*}_{ij}} = 0$ will be equaivalent to requiring\n",
    "$$\\cfrac{\\partial F}{\\partial \\psi^{*}_{2}}  = 0 = \\cfrac{\\partial F}{\\partial \\psi^{*}_{1}} $$\n",
    "\n",
    "Clearly are primary focus shall be when $\\psi_{2} =0 \\ \\textbf{and} \\ \\psi_{1} \\neq 0$ (there's no special restriction that it must be $\\psi_{1}$ or $\\psi_{2}$ we may just as well swap the condition if needed). We shall later come back to focus on when $ \\psi_{2} , \\psi_{1} \\neq 0$ as this represent equillibrias that are biaxial and it may be beneficial to look at what configurations favours biaxial solutions.\n",
    "\n",
    "<strong>Remark</strong>: we may concern ourselves with the lagrange multipliers terms too but at the moment theres no reason to believe this contributes to the biaxial symmetry."
   ]
  },
  {
   "cell_type": "markdown",
   "metadata": {},
   "source": [
    "### looking at uniaxial equillibirum points:"
   ]
  },
  {
   "cell_type": "markdown",
   "metadata": {},
   "source": [
    "### Expression for $\\frac{\\partial F}{\\partial \\psi^{*}_{1}}$ (evaluated at $\\psi_{2} = 0$):"
   ]
  },
  {
   "cell_type": "code",
   "execution_count": 403,
   "metadata": {},
   "outputs": [
    {
     "data": {
      "text/latex": [
       "$\\displaystyle \\frac{A \\psi_{1}}{3} + \\frac{2 C \\psi_{1}^{2} \\overline{\\psi_{1}}}{9} + \\frac{D \\psi_{1}^{2} \\overline{\\psi_{1}}}{9}$"
      ],
      "text/plain": [
       "A*psi1/3 + 2*C*psi1**2*conjugate(psi1)/9 + D*psi1**2*conjugate(psi1)/9"
      ]
     },
     "execution_count": 403,
     "metadata": {},
     "output_type": "execute_result"
    }
   ],
   "source": [
    "F_diff = sp.diff(F_sub, psi1c)\n",
    "result1 = sp.simplify(F_diff).subs({psi2:0,psi2c: 0,psi1c: sp.conjugate(psi1)})\n",
    "sp.expand(result1)"
   ]
  },
  {
   "cell_type": "markdown",
   "metadata": {},
   "source": [
    "### Expression for $\\frac{\\partial F}{\\partial \\psi^{*}_{2}}$ (evaluated at $\\psi_{2} = 0$)"
   ]
  },
  {
   "cell_type": "code",
   "execution_count": 404,
   "metadata": {},
   "outputs": [
    {
     "data": {
      "text/latex": [
       "$\\displaystyle - \\frac{A \\psi_{1}}{6} - \\frac{C \\psi_{1}^{2} \\overline{\\psi_{1}}}{9} - \\frac{D \\psi_{1}^{2} \\overline{\\psi_{1}}}{18}$"
      ],
      "text/plain": [
       "-A*psi1/6 - C*psi1**2*conjugate(psi1)/9 - D*psi1**2*conjugate(psi1)/18"
      ]
     },
     "execution_count": 404,
     "metadata": {},
     "output_type": "execute_result"
    }
   ],
   "source": [
    "F_diff2 = sp.diff(F_sub, psi2c)\n",
    "result3 = sp.simplify(F_diff2).subs({psi2:0,psi2c: 0,psi1c: sp.conjugate(psi1)})\n",
    "sp.expand(result3)"
   ]
  },
  {
   "cell_type": "markdown",
   "metadata": {},
   "source": [
    "Here we need only find the solution of $|\\psi_{1}|$ for $\\frac{\\partial F}{\\partial \\psi^{*}_{1}} = 0$ as $\\frac{\\partial F}{\\partial \\psi^{*}_{2}} = 0$ is just the same constraint multilpied by $-2$ (some what fortunately). Now  its easy to see uniaxial equillibria are at \n",
    "$$|\\psi_{1}|= \\sqrt{\\cfrac{-3A}{2B+D}}.$$"
   ]
  },
  {
   "cell_type": "markdown",
   "metadata": {},
   "source": [
    "So the the fixed point associated to $\\cfrac{\\delta F_{bulk}}{\\delta \\psi^{*}_{1}}|_{\\psi_{2}=0}=0$ is given by $|\\psi_{1}|= \\sqrt{\\cfrac{-3A}{2B+D}}$. We may now proceed with analysing the stability of said equillibria and to do so we shall introduce the <em>hessian</em>\n",
    "\n",
    "<strong>Remark</strong> :This ultimately come's with a few constaints on $A,B,D$ for example if $A<0 \\implies 2B+D > 0$ "
   ]
  },
  {
   "cell_type": "code",
   "execution_count": 405,
   "metadata": {},
   "outputs": [
    {
     "data": {
      "text/plain": [
       "[0]"
      ]
     },
     "execution_count": 405,
     "metadata": {},
     "output_type": "execute_result"
    }
   ],
   "source": [
    "crit_psi1 = sp.solve(result1, psi1)\n",
    "crit_psi1"
   ]
  },
  {
   "cell_type": "markdown",
   "metadata": {},
   "source": [
    "## 3. Stability of fixed points"
   ]
  },
  {
   "cell_type": "markdown",
   "metadata": {},
   "source": [
    "<strong>A cautionary tale</strong>: I had intially taught that a <em>complex Hessian</em> would give what we intended for i.e determine minmias and maximas and saddles but saddly it turns out to <strong>not</strong> be true in general, it turns out the \"complex hessian\" tends to be only half of the real hessian and is used to identify plurisubharmonic functions, I found this  counter example to maybe see why this would be the case:\n",
    "\n",
    "Consider the following function $f(z) = x^{2}-y^{2} = \\cfrac{z^{2}+z^{* 2}}{2}$ , one may always see $\\mathbb{C} \\cong \\mathbb{R}^{2}$ as follows $z=x+iy$ thus we may consider the real hessian of the function $f:\\mathbb{R}^{2} \\rightarrow \\mathbb{R}$,\n",
    "\n",
    "$$ H = \\begin{bmatrix}\n",
    " f_{xx} & f_{xy}\\\\\n",
    "          f_{yx} & f_{yy}\n",
    "\\end{bmatrix}  = \\begin{bmatrix}\n",
    "          2 & 0\\\\\n",
    "          0 & -2\n",
    "        \\end{bmatrix}, $$\n",
    "which gives us that $f$ has a saddle point at $z=0$ <strong>but</strong> if we had considered the complex hessian \n",
    "$$ H = \\cfrac{\\partial^{2}f}{\\partial z^{*}\\partial z} = 0$$\n",
    "which is inconclusive thus it serves us better to consider the real hessian instead to avoid mistakes. However I think I've found the full <em>real Hessian</em> in terms of $z$ and $z^{*}$ just to continue the above example\n",
    "$$ H = \\begin{bmatrix}\n",
    " f_{zz^{*}} & f_{z^{*}z^{*}}\\\\\n",
    "          f_{zz} & f_{z^{*}z}\n",
    "\\end{bmatrix}  = \\begin{bmatrix}\n",
    "          0 & 1\\\\\n",
    "          1 & 0\n",
    "        \\end{bmatrix}, $$\n",
    "which has eigen values $\\pm 1$, thus $f$ has a saddle point as expected!\n",
    "\n",
    "edit: This is what confirmed suspiscions cause I got too simple results intially https://math.stackexchange.com/questions/2015771/hessian-for-complex (specifically the second answer), I think I found something useful instead of the procedure turning everything into real variables, I did a bit of reading and the following books/papers I found to be useful:\n",
    "\n",
    "1) https://www.cambridge.org/core/books/complexvalued-matrix-derivatives/background-material/0EDF69272882D0485AEFB033831212E2 (chapter 5 is the useful one but bewarned the notation is dense and they look at it in general for matrix valued functions so a bit overkill) \n",
    "\n",
    "2) https://arxiv.org/pdf/2405.16742 (page 16 expression 77 & 78)\n",
    "\n",
    "3) https://www.jirka.org/scv/scv.pdf (specifically page 67; I will attach a derivation to see how there related at the end of the notebook)"
   ]
  },
  {
   "cell_type": "markdown",
   "metadata": {},
   "source": [
    "Lets define the complex <em>complex hessian</em> of the function $F: \\mathbb{C^{2}} \\rightarrow \\mathbb{R} \\subset \\mathbb{C}$ as follows\n",
    "$$\n",
    "H = \\begin{bmatrix}\n",
    "\\cfrac{\\partial^{2}F}{\\partial{\\psi^{*}_{1}}\\partial{\\psi_{1}}} & \\cfrac{\\partial^{2}F}{\\partial{\\psi^{*}_{2}}\\partial{\\psi_{1}}}\\\\\n",
    "\\cfrac{\\partial^{2}F}{\\partial{\\psi^{*}_{1}}\\partial{\\psi_{2}}} & \\cfrac{\\partial^{2}F}{\\partial{\\psi^{*}_{2}}\\partial{\\psi_{2}}}\n",
    "\\end{bmatrix}\n",
    "$$\t\n",
    "or in index notation $H_{ij}=\\cfrac{\\partial^{2}F}{\\partial{\\psi^{*}_{i}}\\partial \\psi_{j}}$. More importantly the <em>real hessian</em> for $F$ is defined as follows\n",
    "$$ H = \\begin{bmatrix}\n",
    "\\cfrac{\\partial^{2}F}{\\partial{\\psi^{*}_{1}}\\partial{\\psi_{1}}} & \\cfrac{\\partial^{2}F}{\\partial{\\psi^{*}_{2}}\\partial{\\psi_{1}}} &  \\cfrac{\\partial^{2}F}{\\partial{\\psi^{*}_{1}}\\partial{\\psi^{*}_{1}}} & \\cfrac{\\partial^{2}F}{\\partial{\\psi^{*}_{2}}\\partial{\\psi^{*}_{1}}} \\\\\n",
    "\\cfrac{\\partial^{2}F}{\\partial{\\psi^{*}_{1}}\\partial{\\psi_{2}}} & \\cfrac{\\partial^{2}F}{\\partial{\\psi^{*}_{2}}\\partial{\\psi_{2}}} & \\cfrac{\\partial^{2}F}{\\partial{\\psi^{*}_{1}}\\partial{\\psi^{*}_{2}}} & \\cfrac{\\partial^{2}F}{\\partial{\\psi^{*}_{2}}\\partial{\\psi^{*}_{2}}} \\\\ \\cfrac{\\partial^{2}F}{\\partial{\\psi_{1}}\\partial{\\psi_{1}}} & \\cfrac{\\partial^{2}F}{\\partial{\\psi_{2}}\\partial{\\psi_{1}}} &  \\cfrac{\\partial^{2}F}{\\partial{\\psi_{1}}\\partial{\\psi^{*}_{1}}} & \\cfrac{\\partial^{2}F}{\\partial{\\psi_{2}}\\partial{\\psi^{*}_{1}}} \\\\\n",
    "\\cfrac{\\partial^{2}F}{\\partial{\\psi_{1}}\\partial{\\psi_{2}}} & \\cfrac{\\partial^{2}F}{\\partial{\\psi_{2}}\\partial{\\psi_{2}}} & \\cfrac{\\partial^{2}F}{\\partial{\\psi_{1}}\\partial{\\psi^{*}_{2}}} & \\cfrac{\\partial^{2}F}{\\partial{\\psi_{2}}\\partial{\\psi^{*}_{2}}} \n",
    "\\end{bmatrix}$$\n",
    "\n",
    "page 102 chapter 5 (5.25) of https://www.cambridge.org/core/books/complexvalued-matrix-derivatives/background-material/\n",
    "\n",
    "\n",
    "or alternatively page 67 https://www.cambridge.org/core/books/complexvalued-matrix-derivatives/background-material/ \n",
    "\n",
    "<strong>Remark</strong>: Sylvester’s law of inertia from linear\n",
    "algebra says star-congruence preserves the inertia (the number of positive, negative, and\n",
    "zero eigenvalues). So the inertia of the full Hessian in terms of $x$'s and $y$'s is the same\n",
    "as for the full Hessian in terms of $z$'s and $z^{*}$'s. \n",
    "\n"
   ]
  },
  {
   "cell_type": "code",
   "execution_count": 406,
   "metadata": {},
   "outputs": [
    {
     "data": {
      "text/latex": [
       "$\\displaystyle \\left[\\begin{matrix}\\frac{2 A}{3} + \\frac{2 C \\psi_{1}^{2}}{9} + \\frac{8 C \\psi_{1} \\overline{\\psi_{1}}}{9} + \\frac{2 C \\overline{\\psi_{1}}^{2}}{9} + \\frac{D \\psi_{1}^{2}}{9} + \\frac{4 D \\psi_{1} \\overline{\\psi_{1}}}{9} + \\frac{D \\overline{\\psi_{1}}^{2}}{9} & \\frac{i \\left(- 4 C \\psi_{1}^{2} + 4 C \\overline{\\psi_{1}}^{2} - 2 D \\psi_{1}^{2} + 2 D \\overline{\\psi_{1}}^{2}\\right)}{18} & - \\frac{A}{3} - \\frac{C \\psi_{1}^{2}}{9} - \\frac{4 C \\psi_{1} \\overline{\\psi_{1}}}{9} - \\frac{C \\overline{\\psi_{1}}^{2}}{9} - \\frac{D \\psi_{1}^{2}}{18} - \\frac{2 D \\psi_{1} \\overline{\\psi_{1}}}{9} - \\frac{D \\overline{\\psi_{1}}^{2}}{18} & \\frac{i \\left(2 C \\psi_{1}^{2} - 2 C \\overline{\\psi_{1}}^{2} + D \\psi_{1}^{2} - D \\overline{\\psi_{1}}^{2}\\right)}{18}\\\\\\frac{i \\left(- 4 C \\psi_{1}^{2} + 4 C \\overline{\\psi_{1}}^{2} - 2 D \\psi_{1}^{2} + 2 D \\overline{\\psi_{1}}^{2}\\right)}{18} & \\frac{2 A}{3} - \\frac{2 C \\psi_{1}^{2}}{9} + \\frac{8 C \\psi_{1} \\overline{\\psi_{1}}}{9} - \\frac{2 C \\overline{\\psi_{1}}^{2}}{9} - \\frac{D \\psi_{1}^{2}}{9} + \\frac{4 D \\psi_{1} \\overline{\\psi_{1}}}{9} - \\frac{D \\overline{\\psi_{1}}^{2}}{9} & \\frac{i \\left(2 C \\psi_{1}^{2} - 2 C \\overline{\\psi_{1}}^{2} + D \\psi_{1}^{2} - D \\overline{\\psi_{1}}^{2}\\right)}{18} & - \\frac{A}{3} + \\frac{C \\psi_{1}^{2}}{9} - \\frac{4 C \\psi_{1} \\overline{\\psi_{1}}}{9} + \\frac{C \\overline{\\psi_{1}}^{2}}{9} + \\frac{D \\psi_{1}^{2}}{18} - \\frac{2 D \\psi_{1} \\overline{\\psi_{1}}}{9} + \\frac{D \\overline{\\psi_{1}}^{2}}{18}\\\\- \\frac{A}{3} - \\frac{C \\psi_{1}^{2}}{9} - \\frac{4 C \\psi_{1} \\overline{\\psi_{1}}}{9} - \\frac{C \\overline{\\psi_{1}}^{2}}{9} - \\frac{D \\psi_{1}^{2}}{18} - \\frac{2 D \\psi_{1} \\overline{\\psi_{1}}}{9} - \\frac{D \\overline{\\psi_{1}}^{2}}{18} & \\frac{i \\left(2 C \\psi_{1}^{2} - 2 C \\overline{\\psi_{1}}^{2} + D \\psi_{1}^{2} - D \\overline{\\psi_{1}}^{2}\\right)}{18} & \\frac{2 A}{3} + \\frac{C \\psi_{1}^{2}}{18} + \\frac{5 C \\psi_{1} \\overline{\\psi_{1}}}{9} + \\frac{C \\overline{\\psi_{1}}^{2}}{18} + \\frac{D \\psi_{1}^{2}}{18} + \\frac{2 D \\psi_{1} \\overline{\\psi_{1}}}{9} + \\frac{D \\overline{\\psi_{1}}^{2}}{18} & \\frac{i \\left(- C \\psi_{1}^{2} + C \\overline{\\psi_{1}}^{2} - D \\psi_{1}^{2} + D \\overline{\\psi_{1}}^{2}\\right)}{18}\\\\\\frac{i \\left(2 C \\psi_{1}^{2} - 2 C \\overline{\\psi_{1}}^{2} + D \\psi_{1}^{2} - D \\overline{\\psi_{1}}^{2}\\right)}{18} & - \\frac{A}{3} + \\frac{C \\psi_{1}^{2}}{9} - \\frac{4 C \\psi_{1} \\overline{\\psi_{1}}}{9} + \\frac{C \\overline{\\psi_{1}}^{2}}{9} + \\frac{D \\psi_{1}^{2}}{18} - \\frac{2 D \\psi_{1} \\overline{\\psi_{1}}}{9} + \\frac{D \\overline{\\psi_{1}}^{2}}{18} & \\frac{i \\left(- C \\psi_{1}^{2} + C \\overline{\\psi_{1}}^{2} - D \\psi_{1}^{2} + D \\overline{\\psi_{1}}^{2}\\right)}{18} & \\frac{2 A}{3} - \\frac{C \\psi_{1}^{2}}{18} + \\frac{5 C \\psi_{1} \\overline{\\psi_{1}}}{9} - \\frac{C \\overline{\\psi_{1}}^{2}}{18} - \\frac{D \\psi_{1}^{2}}{18} + \\frac{2 D \\psi_{1} \\overline{\\psi_{1}}}{9} - \\frac{D \\overline{\\psi_{1}}^{2}}{18}\\end{matrix}\\right]$"
      ],
      "text/plain": [
       "Matrix([\n",
       "[2*A/3 + 2*C*psi1**2/9 + 8*C*psi1*conjugate(psi1)/9 + 2*C*conjugate(psi1)**2/9 + D*psi1**2/9 + 4*D*psi1*conjugate(psi1)/9 + D*conjugate(psi1)**2/9,                                                               I*(-4*C*psi1**2 + 4*C*conjugate(psi1)**2 - 2*D*psi1**2 + 2*D*conjugate(psi1)**2)/18,    -A/3 - C*psi1**2/9 - 4*C*psi1*conjugate(psi1)/9 - C*conjugate(psi1)**2/9 - D*psi1**2/18 - 2*D*psi1*conjugate(psi1)/9 - D*conjugate(psi1)**2/18,                                                                    I*(2*C*psi1**2 - 2*C*conjugate(psi1)**2 + D*psi1**2 - D*conjugate(psi1)**2)/18],\n",
       "[                                                              I*(-4*C*psi1**2 + 4*C*conjugate(psi1)**2 - 2*D*psi1**2 + 2*D*conjugate(psi1)**2)/18, 2*A/3 - 2*C*psi1**2/9 + 8*C*psi1*conjugate(psi1)/9 - 2*C*conjugate(psi1)**2/9 - D*psi1**2/9 + 4*D*psi1*conjugate(psi1)/9 - D*conjugate(psi1)**2/9,                                                                    I*(2*C*psi1**2 - 2*C*conjugate(psi1)**2 + D*psi1**2 - D*conjugate(psi1)**2)/18,    -A/3 + C*psi1**2/9 - 4*C*psi1*conjugate(psi1)/9 + C*conjugate(psi1)**2/9 + D*psi1**2/18 - 2*D*psi1*conjugate(psi1)/9 + D*conjugate(psi1)**2/18],\n",
       "[   -A/3 - C*psi1**2/9 - 4*C*psi1*conjugate(psi1)/9 - C*conjugate(psi1)**2/9 - D*psi1**2/18 - 2*D*psi1*conjugate(psi1)/9 - D*conjugate(psi1)**2/18,                                                                    I*(2*C*psi1**2 - 2*C*conjugate(psi1)**2 + D*psi1**2 - D*conjugate(psi1)**2)/18, 2*A/3 + C*psi1**2/18 + 5*C*psi1*conjugate(psi1)/9 + C*conjugate(psi1)**2/18 + D*psi1**2/18 + 2*D*psi1*conjugate(psi1)/9 + D*conjugate(psi1)**2/18,                                                                       I*(-C*psi1**2 + C*conjugate(psi1)**2 - D*psi1**2 + D*conjugate(psi1)**2)/18],\n",
       "[                                                                   I*(2*C*psi1**2 - 2*C*conjugate(psi1)**2 + D*psi1**2 - D*conjugate(psi1)**2)/18,    -A/3 + C*psi1**2/9 - 4*C*psi1*conjugate(psi1)/9 + C*conjugate(psi1)**2/9 + D*psi1**2/18 - 2*D*psi1*conjugate(psi1)/9 + D*conjugate(psi1)**2/18,                                                                       I*(-C*psi1**2 + C*conjugate(psi1)**2 - D*psi1**2 + D*conjugate(psi1)**2)/18, 2*A/3 - C*psi1**2/18 + 5*C*psi1*conjugate(psi1)/9 - C*conjugate(psi1)**2/18 - D*psi1**2/18 + 2*D*psi1*conjugate(psi1)/9 - D*conjugate(psi1)**2/18]])"
      ]
     },
     "execution_count": 406,
     "metadata": {},
     "output_type": "execute_result"
    }
   ],
   "source": [
    "## To make sure I'm not misunderstanding I will check intial results againts the real hessian in real variables\n",
    "from sympy import I, E\n",
    "x, y, u, v = sp.symbols('x y u v', real=True)\n",
    "F_Real=F_sub.subs({psi1:x+I*y, psi1c:x-I*y,psi2:u+I*v , psi2c:u-I*v})\n",
    "row_vars = [x, y, u, v]\n",
    "# Columns in order: (x, y, u, v)\n",
    "col_vars = [x, y, u, v]\n",
    "Ht = sp.Matrix([[sp.diff(F_Real, rv, cv) for cv in col_vars] for rv in row_vars])\n",
    "Htt=Ht.subs({x:(psi1+sp.conjugate(psi1))/2 , y:(psi1-sp.conjugate(psi1))/(2*I) , u:0, v:0 })\n",
    "Htt"
   ]
  },
  {
   "cell_type": "code",
   "execution_count": 407,
   "metadata": {},
   "outputs": [
    {
     "data": {
      "text/latex": [
       "$\\displaystyle \\left[\\begin{matrix}\\frac{A}{3} + \\frac{4 C \\psi_{1} \\overline{\\psi_{1}}}{9} - \\frac{2 C \\psi_{1} \\overline{\\psi_{2}}}{9} - \\frac{2 C \\psi_{2} \\overline{\\psi_{1}}}{9} + \\frac{5 C \\psi_{2} \\overline{\\psi_{2}}}{18} + \\frac{2 D \\psi_{1} \\overline{\\psi_{1}}}{9} - \\frac{D \\psi_{1} \\overline{\\psi_{2}}}{9} - \\frac{D \\psi_{2} \\overline{\\psi_{1}}}{9} + \\frac{D \\psi_{2} \\overline{\\psi_{2}}}{9} & - \\frac{A}{6} - \\frac{2 C \\psi_{1} \\overline{\\psi_{1}}}{9} + \\frac{5 C \\psi_{1} \\overline{\\psi_{2}}}{18} + \\frac{C \\psi_{2} \\overline{\\psi_{1}}}{9} - \\frac{2 C \\psi_{2} \\overline{\\psi_{2}}}{9} - \\frac{D \\psi_{1} \\overline{\\psi_{1}}}{9} + \\frac{D \\psi_{1} \\overline{\\psi_{2}}}{9} + \\frac{D \\psi_{2} \\overline{\\psi_{1}}}{9} - \\frac{D \\psi_{2} \\overline{\\psi_{2}}}{9}\\\\- \\frac{A}{6} - \\frac{2 C \\psi_{1} \\overline{\\psi_{1}}}{9} + \\frac{C \\psi_{1} \\overline{\\psi_{2}}}{9} + \\frac{5 C \\psi_{2} \\overline{\\psi_{1}}}{18} - \\frac{2 C \\psi_{2} \\overline{\\psi_{2}}}{9} - \\frac{D \\psi_{1} \\overline{\\psi_{1}}}{9} + \\frac{D \\psi_{1} \\overline{\\psi_{2}}}{9} + \\frac{D \\psi_{2} \\overline{\\psi_{1}}}{9} - \\frac{D \\psi_{2} \\overline{\\psi_{2}}}{9} & \\frac{A}{3} + \\frac{5 C \\psi_{1} \\overline{\\psi_{1}}}{18} - \\frac{2 C \\psi_{1} \\overline{\\psi_{2}}}{9} - \\frac{2 C \\psi_{2} \\overline{\\psi_{1}}}{9} + \\frac{4 C \\psi_{2} \\overline{\\psi_{2}}}{9} + \\frac{D \\psi_{1} \\overline{\\psi_{1}}}{9} - \\frac{D \\psi_{1} \\overline{\\psi_{2}}}{9} - \\frac{D \\psi_{2} \\overline{\\psi_{1}}}{9} + \\frac{2 D \\psi_{2} \\overline{\\psi_{2}}}{9}\\end{matrix}\\right]$"
      ],
      "text/plain": [
       "Matrix([\n",
       "[A/3 + 4*C*psi1*conjugate(psi1)/9 - 2*C*psi1*conjugate(psi2)/9 - 2*C*psi2*conjugate(psi1)/9 + 5*C*psi2*conjugate(psi2)/18 + 2*D*psi1*conjugate(psi1)/9 - D*psi1*conjugate(psi2)/9 - D*psi2*conjugate(psi1)/9 + D*psi2*conjugate(psi2)/9,    -A/6 - 2*C*psi1*conjugate(psi1)/9 + 5*C*psi1*conjugate(psi2)/18 + C*psi2*conjugate(psi1)/9 - 2*C*psi2*conjugate(psi2)/9 - D*psi1*conjugate(psi1)/9 + D*psi1*conjugate(psi2)/9 + D*psi2*conjugate(psi1)/9 - D*psi2*conjugate(psi2)/9],\n",
       "[   -A/6 - 2*C*psi1*conjugate(psi1)/9 + C*psi1*conjugate(psi2)/9 + 5*C*psi2*conjugate(psi1)/18 - 2*C*psi2*conjugate(psi2)/9 - D*psi1*conjugate(psi1)/9 + D*psi1*conjugate(psi2)/9 + D*psi2*conjugate(psi1)/9 - D*psi2*conjugate(psi2)/9, A/3 + 5*C*psi1*conjugate(psi1)/18 - 2*C*psi1*conjugate(psi2)/9 - 2*C*psi2*conjugate(psi1)/9 + 4*C*psi2*conjugate(psi2)/9 + D*psi1*conjugate(psi1)/9 - D*psi1*conjugate(psi2)/9 - D*psi2*conjugate(psi1)/9 + 2*D*psi2*conjugate(psi2)/9]])"
      ]
     },
     "execution_count": 407,
     "metadata": {},
     "output_type": "execute_result"
    }
   ],
   "source": [
    "##Computing the complex hessian\n",
    "H1i = sp.diff(F_sub, psi1c)\n",
    "H2i = sp.diff(F_sub, psi2c)\n",
    "H11 = sp.diff(H1i,psi1)\n",
    "H12 = sp.diff(H1i,psi2)\n",
    "H21 = sp.diff(H2i,psi1)\n",
    "H22 = sp.diff(H2i,psi2)\n",
    "H = sp.Matrix([\n",
    "  [H11, H12],\n",
    "  [H21, H22]\n",
    "])\n",
    "sp.simplify(H).subs({ psi1c: sp.conjugate(psi1), psi2c: sp.conjugate(psi2) })\n",
    "\n",
    "\n"
   ]
  },
  {
   "cell_type": "code",
   "execution_count": 408,
   "metadata": {},
   "outputs": [
    {
     "data": {
      "text/latex": [
       "$\\displaystyle \\left[\\begin{matrix}\\frac{A}{3} + \\frac{4 C \\psi_{1} \\overline{\\psi_{1}}}{9} + \\frac{2 D \\psi_{1} \\overline{\\psi_{1}}}{9} & - \\frac{A}{6} - \\frac{2 C \\psi_{1} \\overline{\\psi_{1}}}{9} - \\frac{D \\psi_{1} \\overline{\\psi_{1}}}{9} & \\frac{2 C \\psi_{1}^{2}}{9} + \\frac{D \\psi_{1}^{2}}{9} & - \\frac{C \\psi_{1}^{2}}{9} - \\frac{D \\psi_{1}^{2}}{18}\\\\- \\frac{A}{6} - \\frac{2 C \\psi_{1} \\overline{\\psi_{1}}}{9} - \\frac{D \\psi_{1} \\overline{\\psi_{1}}}{9} & \\frac{A}{3} + \\frac{5 C \\psi_{1} \\overline{\\psi_{1}}}{18} + \\frac{D \\psi_{1} \\overline{\\psi_{1}}}{9} & - \\frac{C \\psi_{1}^{2}}{9} - \\frac{D \\psi_{1}^{2}}{18} & \\frac{C \\psi_{1}^{2}}{18} + \\frac{D \\psi_{1}^{2}}{18}\\\\\\frac{2 C \\overline{\\psi_{1}}^{2}}{9} + \\frac{D \\overline{\\psi_{1}}^{2}}{9} & - \\frac{C \\overline{\\psi_{1}}^{2}}{9} - \\frac{D \\overline{\\psi_{1}}^{2}}{18} & \\frac{A}{3} + \\frac{4 C \\psi_{1} \\overline{\\psi_{1}}}{9} + \\frac{2 D \\psi_{1} \\overline{\\psi_{1}}}{9} & - \\frac{A}{6} - \\frac{2 C \\psi_{1} \\overline{\\psi_{1}}}{9} - \\frac{D \\psi_{1} \\overline{\\psi_{1}}}{9}\\\\- \\frac{C \\overline{\\psi_{1}}^{2}}{9} - \\frac{D \\overline{\\psi_{1}}^{2}}{18} & \\frac{C \\overline{\\psi_{1}}^{2}}{18} + \\frac{D \\overline{\\psi_{1}}^{2}}{18} & - \\frac{A}{6} - \\frac{2 C \\psi_{1} \\overline{\\psi_{1}}}{9} - \\frac{D \\psi_{1} \\overline{\\psi_{1}}}{9} & \\frac{A}{3} + \\frac{5 C \\psi_{1} \\overline{\\psi_{1}}}{18} + \\frac{D \\psi_{1} \\overline{\\psi_{1}}}{9}\\end{matrix}\\right]$"
      ],
      "text/plain": [
       "Matrix([\n",
       "[A/3 + 4*C*psi1*conjugate(psi1)/9 + 2*D*psi1*conjugate(psi1)/9, -A/6 - 2*C*psi1*conjugate(psi1)/9 - D*psi1*conjugate(psi1)/9,                                   2*C*psi1**2/9 + D*psi1**2/9,                                  -C*psi1**2/9 - D*psi1**2/18],\n",
       "[ -A/6 - 2*C*psi1*conjugate(psi1)/9 - D*psi1*conjugate(psi1)/9, A/3 + 5*C*psi1*conjugate(psi1)/18 + D*psi1*conjugate(psi1)/9,                                   -C*psi1**2/9 - D*psi1**2/18,                                  C*psi1**2/18 + D*psi1**2/18],\n",
       "[            2*C*conjugate(psi1)**2/9 + D*conjugate(psi1)**2/9,            -C*conjugate(psi1)**2/9 - D*conjugate(psi1)**2/18, A/3 + 4*C*psi1*conjugate(psi1)/9 + 2*D*psi1*conjugate(psi1)/9, -A/6 - 2*C*psi1*conjugate(psi1)/9 - D*psi1*conjugate(psi1)/9],\n",
       "[            -C*conjugate(psi1)**2/9 - D*conjugate(psi1)**2/18,            C*conjugate(psi1)**2/18 + D*conjugate(psi1)**2/18,  -A/6 - 2*C*psi1*conjugate(psi1)/9 - D*psi1*conjugate(psi1)/9, A/3 + 5*C*psi1*conjugate(psi1)/18 + D*psi1*conjugate(psi1)/9]])"
      ]
     },
     "execution_count": 408,
     "metadata": {},
     "output_type": "execute_result"
    }
   ],
   "source": [
    "# real hessian calc\n",
    "# Function to compute the full 4x4 Hessian of F_sub\n",
    "# with block structure [[M, P_star], [P, M2]]\n",
    "# where M_{ij} = ∂²F/(∂ψ*_i ∂ψ_j),\n",
    "# P_star_{ij} = ∂²F/(∂ψ*_i ∂ψ*_j),\n",
    "# P_{ij} = ∂²F/(∂ψ_i ∂ψ_j),\n",
    "# M2_{ij} = ∂²F/(∂ψ_i ∂ψ*_j)\n",
    "\n",
    "def compute_full_hessian(F_sub, psi1, psi2, psi1c, psi2c):\n",
    "    # Mixed block M\n",
    "    M = sp.Matrix([\n",
    "        [sp.diff(F_sub, psi1c, psi1), sp.diff(F_sub, psi2c, psi1)],\n",
    "        [sp.diff(F_sub, psi1c, psi2), sp.diff(F_sub, psi2c, psi2)]\n",
    "    ])\n",
    "    # Pure conjugate block P_star\n",
    "    P_star = sp.Matrix([\n",
    "        [sp.diff(F_sub, psi1c, psi1c), sp.diff(F_sub, psi2c, psi1c)],\n",
    "        [sp.diff(F_sub, psi1c, psi2c), sp.diff(F_sub, psi2c, psi2c)]\n",
    "    ])\n",
    "    # Pure field block P\n",
    "    P = sp.Matrix([\n",
    "        [sp.diff(F_sub, psi1, psi1), sp.diff(F_sub, psi2, psi1)],\n",
    "        [sp.diff(F_sub, psi1, psi2), sp.diff(F_sub, psi2, psi2)]\n",
    "    ])\n",
    "    # Second mixed block M2\n",
    "    M2 = sp.Matrix([\n",
    "        [sp.diff(F_sub, psi1, psi1c), sp.diff(F_sub, psi2, psi1c)],\n",
    "        [sp.diff(F_sub, psi1, psi2c), sp.diff(F_sub, psi2, psi2c)]\n",
    "    ])\n",
    "\n",
    "    # Assemble full Hessian 4x4\n",
    "    H_full = sp.Matrix([[*M.row(0), *P_star.row(0)],\n",
    "                        [*M.row(1), *P_star.row(1)],\n",
    "                        [*P.row(0), *M2.row(0)],\n",
    "                        [*P.row(1), *M2.row(1)]])\n",
    "    # Simplify and optionally restore actual conjugates\n",
    "    H_simpl = sp.simplify(H_full).subs({\n",
    "        psi1c: sp.conjugate(psi1),\n",
    "        psi2c: sp.conjugate(psi2)\n",
    "    })\n",
    "    return H_simpl\n",
    "\n",
    "\n",
    "H_full_simpl = compute_full_hessian(F_sub, psi1, psi2, psi1c, psi2c)\n",
    "# uniaxial psi2=0, then:\n",
    "H_int = H_full_simpl.subs({psi2: 0, psi2c: 0})\n",
    "H_int"
   ]
  },
  {
   "cell_type": "code",
   "execution_count": 409,
   "metadata": {},
   "outputs": [
    {
     "data": {
      "text/latex": [
       "$\\displaystyle \\frac{A^{4}}{144} + \\frac{A^{3} C \\psi_{1} \\overline{\\psi_{1}}}{36} + \\frac{A^{3} D \\psi_{1} \\overline{\\psi_{1}}}{81} + \\frac{A^{2} C^{2} \\psi_{1}^{2} \\overline{\\psi_{1}}^{2}}{27} + \\frac{31 A^{2} C D \\psi_{1}^{2} \\overline{\\psi_{1}}^{2}}{972} + \\frac{13 A^{2} D^{2} \\psi_{1}^{2} \\overline{\\psi_{1}}^{2}}{1944} + \\frac{5 A C^{3} \\psi_{1}^{3} \\overline{\\psi_{1}}^{3}}{243} + \\frac{19 A C^{2} D \\psi_{1}^{3} \\overline{\\psi_{1}}^{3}}{729} + \\frac{31 A C D^{2} \\psi_{1}^{3} \\overline{\\psi_{1}}^{3}}{2916} + \\frac{A D^{3} \\psi_{1}^{3} \\overline{\\psi_{1}}^{3}}{729} + \\frac{C^{4} \\psi_{1}^{4} \\overline{\\psi_{1}}^{4}}{243} + \\frac{5 C^{3} D \\psi_{1}^{4} \\overline{\\psi_{1}}^{4}}{729} + \\frac{C^{2} D^{2} \\psi_{1}^{4} \\overline{\\psi_{1}}^{4}}{243} + \\frac{C D^{3} \\psi_{1}^{4} \\overline{\\psi_{1}}^{4}}{972} + \\frac{D^{4} \\psi_{1}^{4} \\overline{\\psi_{1}}^{4}}{11664}$"
      ],
      "text/plain": [
       "A**4/144 + A**3*C*psi1*conjugate(psi1)/36 + A**3*D*psi1*conjugate(psi1)/81 + A**2*C**2*psi1**2*conjugate(psi1)**2/27 + 31*A**2*C*D*psi1**2*conjugate(psi1)**2/972 + 13*A**2*D**2*psi1**2*conjugate(psi1)**2/1944 + 5*A*C**3*psi1**3*conjugate(psi1)**3/243 + 19*A*C**2*D*psi1**3*conjugate(psi1)**3/729 + 31*A*C*D**2*psi1**3*conjugate(psi1)**3/2916 + A*D**3*psi1**3*conjugate(psi1)**3/729 + C**4*psi1**4*conjugate(psi1)**4/243 + 5*C**3*D*psi1**4*conjugate(psi1)**4/729 + C**2*D**2*psi1**4*conjugate(psi1)**4/243 + C*D**3*psi1**4*conjugate(psi1)**4/972 + D**4*psi1**4*conjugate(psi1)**4/11664"
      ]
     },
     "execution_count": 409,
     "metadata": {},
     "output_type": "execute_result"
    }
   ],
   "source": [
    "##determinant of the hessian\n",
    "H_r = H_int.det()\n",
    "H_r\n",
    "#print(type(H_r))\n"
   ]
  },
  {
   "cell_type": "code",
   "execution_count": 410,
   "metadata": {},
   "outputs": [
    {
     "data": {
      "text/latex": [
       "$\\displaystyle 0$"
      ],
      "text/plain": [
       "0"
      ]
     },
     "execution_count": 410,
     "metadata": {},
     "output_type": "execute_result"
    }
   ],
   "source": [
    "del A, C, D    # if they were previously bound to numpy arrays\n",
    "A, C, D = sp.symbols('A C D', real=True)\n",
    "r=sp.sqrt(3*A/(2*C+D))\n",
    "H_detR = H_r.subs({psi1:-1*r,sp.conjugate(psi1):r})\n",
    "sp.simplify(H_detR)"
   ]
  },
  {
   "cell_type": "code",
   "execution_count": 411,
   "metadata": {},
   "outputs": [
    {
     "data": {
      "text/latex": [
       "$\\displaystyle 0$"
      ],
      "text/plain": [
       "0"
      ]
     },
     "execution_count": 411,
     "metadata": {},
     "output_type": "execute_result"
    }
   ],
   "source": [
    "## sanity check\n",
    "sp.simplify(Htt.det().subs({psi1:-1*r,sp.conjugate(psi1):r}))"
   ]
  },
  {
   "cell_type": "markdown",
   "metadata": {},
   "source": [
    "<strong>remark</strong>: eigen values below cant be trusted as I didnt actuattly find $\\psi_{1}$ but rather subbed in values such that $|\\psi_{1}|^{2} = \\cfrac{-3A}{2B+D}$ but whenever I have expressions where I have $\\psi_{1}^{2}$ it dosent work."
   ]
  },
  {
   "cell_type": "code",
   "execution_count": 412,
   "metadata": {},
   "outputs": [
    {
     "data": {
      "text/plain": [
       "{A*D/(12*C + 6*D): 1, -5*A/6: 1, 0: 2}"
      ]
     },
     "execution_count": 412,
     "metadata": {},
     "output_type": "execute_result"
    }
   ],
   "source": [
    "H_int.subs({psi1:-1*r,sp.conjugate(psi1):r}).eigenvals() "
   ]
  },
  {
   "cell_type": "code",
   "execution_count": 413,
   "metadata": {},
   "outputs": [
    {
     "data": {
      "text/plain": [
       "{A*D/(3*(2*C + D)): 1, 0: 2, -5*A/3: 1}"
      ]
     },
     "execution_count": 413,
     "metadata": {},
     "output_type": "execute_result"
    }
   ],
   "source": [
    "##sanity check\n",
    "Htt.subs({psi1:-1*r,sp.conjugate(psi1):r}).eigenvals()"
   ]
  },
  {
   "cell_type": "markdown",
   "metadata": {},
   "source": [
    "Thus $\\text{Det}(H)=0$ so it might be worth exploring $\\mathcal{O}(6)$ terms, as intially suggested by the nematics paper more specifically any term other than $\\text{tr}(E^{3}) \\text{tr}(E^{* 3})$ term"
   ]
  },
  {
   "cell_type": "code",
   "execution_count": 414,
   "metadata": {},
   "outputs": [
    {
     "data": {
      "text/latex": [
       "$\\displaystyle \\frac{A \\psi_{1}}{3} + \\frac{2 C \\psi_{1}^{2} \\overline{\\psi_{1}}}{9} + \\frac{D \\psi_{1}^{2} \\overline{\\psi_{1}}}{9} + \\frac{4 G \\psi_{1}^{3} \\overline{\\psi_{1}}^{2}}{27}$"
      ],
      "text/plain": [
       "A*psi1/3 + 2*C*psi1**2*conjugate(psi1)/9 + D*psi1**2*conjugate(psi1)/9 + 4*G*psi1**3*conjugate(psi1)**2/27"
      ]
     },
     "execution_count": 414,
     "metadata": {},
     "output_type": "execute_result"
    }
   ],
   "source": [
    "F6 = ( A * A1 /2 + C * C1 /4 + D * C2 /4 + G * G1 /6).subs({sp.conjugate(psi1): psi1c, sp.conjugate(psi2): psi2c})\n",
    "F_diff_psi1c = sp.diff(F6,psi1c)\n",
    "sp.expand(F_diff_psi1c).subs({psi1c:sp.conjugate(psi1),psi2c:0,psi2:0})"
   ]
  },
  {
   "cell_type": "code",
   "execution_count": 415,
   "metadata": {},
   "outputs": [
    {
     "data": {
      "text/latex": [
       "$\\displaystyle \\frac{- \\frac{9 C}{2} - \\frac{9 D}{4} + \\frac{3 \\sqrt{- 24 A G + 36 C^{2} + 36 C D + 9 D^{2}}}{4}}{G}$"
      ],
      "text/plain": [
       "(-9*C/2 - 9*D/4 + 3*sqrt(-24*A*G + 36*C**2 + 36*C*D + 9*D**2)/4)/G"
      ]
     },
     "execution_count": 415,
     "metadata": {},
     "output_type": "execute_result"
    }
   ],
   "source": [
    "x = sp.symbols('x')\n",
    "sol = sp.solve(A/3 + (2*C*x)/9 + (D*x)/9 + (2*G*x**2)/81, x)\n",
    "sp.simplify(sol[1])"
   ]
  },
  {
   "cell_type": "markdown",
   "metadata": {},
   "source": [
    "Which gives the solution $$|\\psi_{1}| = \\frac{9}{4G}\\Bigl[-(2C+D)\\pm\\sqrt{(2C+D)^2 - \\tfrac{8AG}{3}}\\Bigr]. $$"
   ]
  },
  {
   "cell_type": "code",
   "execution_count": 416,
   "metadata": {},
   "outputs": [
    {
     "data": {
      "text/latex": [
       "$\\displaystyle \\frac{A^{4}}{144} + \\frac{A^{3} C \\psi_{1} \\overline{\\psi_{1}}}{36} + \\frac{A^{3} D \\psi_{1} \\overline{\\psi_{1}}}{81} + \\frac{2 A^{3} G \\psi_{1}^{2} \\overline{\\psi_{1}}^{2}}{81} + \\frac{A^{2} C^{2} \\psi_{1}^{2} \\overline{\\psi_{1}}^{2}}{27} + \\frac{31 A^{2} C D \\psi_{1}^{2} \\overline{\\psi_{1}}^{2}}{972} + \\frac{5 A^{2} C G \\psi_{1}^{3} \\overline{\\psi_{1}}^{3}}{81} + \\frac{13 A^{2} D^{2} \\psi_{1}^{2} \\overline{\\psi_{1}}^{2}}{1944} + \\frac{19 A^{2} D G \\psi_{1}^{3} \\overline{\\psi_{1}}^{3}}{729} + \\frac{2 A^{2} G^{2} \\psi_{1}^{4} \\overline{\\psi_{1}}^{4}}{81} + \\frac{5 A C^{3} \\psi_{1}^{3} \\overline{\\psi_{1}}^{3}}{243} + \\frac{19 A C^{2} D \\psi_{1}^{3} \\overline{\\psi_{1}}^{3}}{729} + \\frac{4 A C^{2} G \\psi_{1}^{4} \\overline{\\psi_{1}}^{4}}{81} + \\frac{31 A C D^{2} \\psi_{1}^{3} \\overline{\\psi_{1}}^{3}}{2916} + \\frac{10 A C D G \\psi_{1}^{4} \\overline{\\psi_{1}}^{4}}{243} + \\frac{28 A C G^{2} \\psi_{1}^{5} \\overline{\\psi_{1}}^{5}}{729} + \\frac{A D^{3} \\psi_{1}^{3} \\overline{\\psi_{1}}^{3}}{729} + \\frac{2 A D^{2} G \\psi_{1}^{4} \\overline{\\psi_{1}}^{4}}{243} + \\frac{104 A D G^{2} \\psi_{1}^{5} \\overline{\\psi_{1}}^{5}}{6561} + \\frac{64 A G^{3} \\psi_{1}^{6} \\overline{\\psi_{1}}^{6}}{6561} + \\frac{C^{4} \\psi_{1}^{4} \\overline{\\psi_{1}}^{4}}{243} + \\frac{5 C^{3} D \\psi_{1}^{4} \\overline{\\psi_{1}}^{4}}{729} + \\frac{28 C^{3} G \\psi_{1}^{5} \\overline{\\psi_{1}}^{5}}{2187} + \\frac{C^{2} D^{2} \\psi_{1}^{4} \\overline{\\psi_{1}}^{4}}{243} + \\frac{104 C^{2} D G \\psi_{1}^{5} \\overline{\\psi_{1}}^{5}}{6561} + \\frac{32 C^{2} G^{2} \\psi_{1}^{6} \\overline{\\psi_{1}}^{6}}{2187} + \\frac{C D^{3} \\psi_{1}^{4} \\overline{\\psi_{1}}^{4}}{972} + \\frac{41 C D^{2} G \\psi_{1}^{5} \\overline{\\psi_{1}}^{5}}{6561} + \\frac{236 C D G^{2} \\psi_{1}^{6} \\overline{\\psi_{1}}^{6}}{19683} + \\frac{16 C G^{3} \\psi_{1}^{7} \\overline{\\psi_{1}}^{7}}{2187} + \\frac{D^{4} \\psi_{1}^{4} \\overline{\\psi_{1}}^{4}}{11664} + \\frac{5 D^{3} G \\psi_{1}^{5} \\overline{\\psi_{1}}^{5}}{6561} + \\frac{46 D^{2} G^{2} \\psi_{1}^{6} \\overline{\\psi_{1}}^{6}}{19683} + \\frac{176 D G^{3} \\psi_{1}^{7} \\overline{\\psi_{1}}^{7}}{59049} + \\frac{80 G^{4} \\psi_{1}^{8} \\overline{\\psi_{1}}^{8}}{59049}$"
      ],
      "text/plain": [
       "A**4/144 + A**3*C*psi1*conjugate(psi1)/36 + A**3*D*psi1*conjugate(psi1)/81 + 2*A**3*G*psi1**2*conjugate(psi1)**2/81 + A**2*C**2*psi1**2*conjugate(psi1)**2/27 + 31*A**2*C*D*psi1**2*conjugate(psi1)**2/972 + 5*A**2*C*G*psi1**3*conjugate(psi1)**3/81 + 13*A**2*D**2*psi1**2*conjugate(psi1)**2/1944 + 19*A**2*D*G*psi1**3*conjugate(psi1)**3/729 + 2*A**2*G**2*psi1**4*conjugate(psi1)**4/81 + 5*A*C**3*psi1**3*conjugate(psi1)**3/243 + 19*A*C**2*D*psi1**3*conjugate(psi1)**3/729 + 4*A*C**2*G*psi1**4*conjugate(psi1)**4/81 + 31*A*C*D**2*psi1**3*conjugate(psi1)**3/2916 + 10*A*C*D*G*psi1**4*conjugate(psi1)**4/243 + 28*A*C*G**2*psi1**5*conjugate(psi1)**5/729 + A*D**3*psi1**3*conjugate(psi1)**3/729 + 2*A*D**2*G*psi1**4*conjugate(psi1)**4/243 + 104*A*D*G**2*psi1**5*conjugate(psi1)**5/6561 + 64*A*G**3*psi1**6*conjugate(psi1)**6/6561 + C**4*psi1**4*conjugate(psi1)**4/243 + 5*C**3*D*psi1**4*conjugate(psi1)**4/729 + 28*C**3*G*psi1**5*conjugate(psi1)**5/2187 + C**2*D**2*psi1**4*conjugate(psi1)**4/243 + 104*C**2*D*G*psi1**5*conjugate(psi1)**5/6561 + 32*C**2*G**2*psi1**6*conjugate(psi1)**6/2187 + C*D**3*psi1**4*conjugate(psi1)**4/972 + 41*C*D**2*G*psi1**5*conjugate(psi1)**5/6561 + 236*C*D*G**2*psi1**6*conjugate(psi1)**6/19683 + 16*C*G**3*psi1**7*conjugate(psi1)**7/2187 + D**4*psi1**4*conjugate(psi1)**4/11664 + 5*D**3*G*psi1**5*conjugate(psi1)**5/6561 + 46*D**2*G**2*psi1**6*conjugate(psi1)**6/19683 + 176*D*G**3*psi1**7*conjugate(psi1)**7/59049 + 80*G**4*psi1**8*conjugate(psi1)**8/59049"
      ]
     },
     "execution_count": 416,
     "metadata": {},
     "output_type": "execute_result"
    }
   ],
   "source": [
    "H_full_simpl6 = compute_full_hessian(F6, psi1, psi2, psi1c, psi2c)\n",
    "# uniaxial psi2=0, then:\n",
    "H_int6 = H_full_simpl6.subs({psi2: 0, psi2c: 0})\n",
    "H_int6.det()"
   ]
  },
  {
   "cell_type": "markdown",
   "metadata": {},
   "source": [
    "Dosent look like $0$ at least! but very very messy! (also its real which is always a good sign!) I am still unsure how workable this is?"
   ]
  },
  {
   "cell_type": "code",
   "execution_count": 417,
   "metadata": {},
   "outputs": [
    {
     "data": {
      "text/plain": [
       "{A/3 + C*psi1*conjugate(psi1)/2 + D*psi1*conjugate(psi1)/4 - sqrt(4*A**2 + 16*A*C*psi1*conjugate(psi1) + 8*A*D*psi1*conjugate(psi1) + 20*C**2*psi1**2*conjugate(psi1)**2 + 20*C*D*psi1**2*conjugate(psi1)**2 + 5*D**2*psi1**2*conjugate(psi1)**2)/12: 1,\n",
       " A/3 + C*psi1*conjugate(psi1)/2 + D*psi1*conjugate(psi1)/4 + sqrt(4*A**2 + 16*A*C*psi1*conjugate(psi1) + 8*A*D*psi1*conjugate(psi1) + 20*C**2*psi1**2*conjugate(psi1)**2 + 20*C*D*psi1**2*conjugate(psi1)**2 + 5*D**2*psi1**2*conjugate(psi1)**2)/12: 1,\n",
       " A/3 + 2*C*psi1*conjugate(psi1)/9 + D*psi1*conjugate(psi1)/12 - sqrt(36*A**2 + 48*A*C*psi1*conjugate(psi1) + 24*A*D*psi1*conjugate(psi1) + 16*C**2*psi1**2*conjugate(psi1)**2 + 16*C*D*psi1**2*conjugate(psi1)**2 + 5*D**2*psi1**2*conjugate(psi1)**2)/36: 1,\n",
       " A/3 + 2*C*psi1*conjugate(psi1)/9 + D*psi1*conjugate(psi1)/12 + sqrt(36*A**2 + 48*A*C*psi1*conjugate(psi1) + 24*A*D*psi1*conjugate(psi1) + 16*C**2*psi1**2*conjugate(psi1)**2 + 16*C*D*psi1**2*conjugate(psi1)**2 + 5*D**2*psi1**2*conjugate(psi1)**2)/36: 1}"
      ]
     },
     "execution_count": 417,
     "metadata": {},
     "output_type": "execute_result"
    }
   ],
   "source": [
    "H_int.eigenvals()\n"
   ]
  },
  {
   "cell_type": "code",
   "execution_count": 418,
   "metadata": {},
   "outputs": [
    {
     "data": {
      "text/plain": [
       "[731.159094176407, 831.055102043814, 109.176559875318, 320.707056963545]"
      ]
     },
     "execution_count": 418,
     "metadata": {},
     "output_type": "execute_result"
    }
   ],
   "source": [
    "ev_dict    = H_int.eigenvals()\n",
    "eigenvals  = list(ev_dict.keys())\n",
    "L1, L2, L3, L4 = eigenvals  # for a 4×4\n",
    "r=(9/(4*G)*(-(2*C+D+sp.sqrt((2*C+D)**2 -(8/3)*A*G))))\n",
    "# substitution map\n",
    "subs_map = {\n",
    "    psi1 : r,      \n",
    "    psi1c: r,\n",
    "    \n",
    "    \n",
    "}\n",
    "\n",
    "# substitute into each eigenvalue\n",
    "L1_at_r = L1.subs(subs_map)\n",
    "L2_at_r = L2.subs(subs_map)\n",
    "L3_at_r = L3.subs(subs_map)\n",
    "L4_at_r = L4.subs(subs_map)\n",
    "\n",
    "eig=[L1_at_r.subs({A:-1,C:1.6,D:-0.4,G:0.2}),\n",
    "L2_at_r.subs({A:-1,C:0.8,D:-0.1,G:0.2}),\n",
    "L3_at_r.subs({A:-1,C:0.8,D:-0.1,G:0.2}),\n",
    "L4_at_r.subs({A:-1,C:0.8,D:-0.1,G:0.2})]\n",
    "eig\n"
   ]
  },
  {
   "cell_type": "markdown",
   "metadata": {},
   "source": [
    "In theory this an example of a positive definite hessian as the eigenvalues are positive thus a stable configuration, I've yet to run the code to see if this is indeed the case if so I think we just need an efficient way to make stability plots!"
   ]
  },
  {
   "cell_type": "code",
   "execution_count": 419,
   "metadata": {},
   "outputs": [
    {
     "data": {
      "image/png": "[encoded data removed]",
      "text/plain": [
       "<Figure size 1500x400 with 5 Axes>"
      ]
     },
     "metadata": {},
     "output_type": "display_data"
    }
   ],
   "source": [
    "import numpy as np\n",
    "import matplotlib.pyplot as plt\n",
    "# Define symbols\n",
    "A, C, D, G = sp.symbols('A C D G', real=True)\n",
    "\n",
    "H2=H_int6.det().subs({psi1:(9/(4*G)*(-(2*C+D+sp.sqrt((2*C+D)**2 -(8/3)*A*G)))) , psi1c: (9/(4*G)*(-(2*C+D+sp.sqrt((2*C+D)**2 -(8/3)*A*G))))})\n",
    "\n",
    "\n",
    "\n",
    "# Define the determinant expression H2 (symbolically)\n",
    "expr = H2 \n",
    "# User-provided symbolic H2 expression\n",
    "# For demo, let's assume H2 = C + D - G  # Placeholder; replace with actual expr\n",
    "\n",
    "# Lambdify to numeric function\n",
    "H2_func = sp.lambdify((A, C, D, G), expr, 'numpy')\n",
    "\n",
    "# Parameters\n",
    "A_val = -1\n",
    "Gs = np.linspace(0.1, 1.0, 5)  # 5 values of G\n",
    "C_vals = np.linspace(-1, 1, 200)\n",
    "D_vals = np.linspace(-1, 1, 200)\n",
    "\n",
    "# Prepare plot\n",
    "fig, axes = plt.subplots(1, len(Gs), figsize=(15, 4))\n",
    "cmap = plt.matplotlib.colors.ListedColormap(['red', 'white', 'blue'])\n",
    "bounds = [-1.5, -0.5, 0.5, 1.5]\n",
    "norm = plt.matplotlib.colors.BoundaryNorm(bounds, cmap.N)\n",
    "\n",
    "for ax, G_val in zip(axes, Gs):\n",
    "    # Evaluate determinant grid\n",
    "    C_grid, D_grid = np.meshgrid(C_vals, D_vals)\n",
    "    H2_grid = H2_func(A_val, C_grid, D_grid, G_val)\n",
    "    \n",
    "    # Classification\n",
    "    class_grid = np.zeros_like(H2_grid)\n",
    "    class_grid[H2_grid > 0] = 1\n",
    "    class_grid[H2_grid < 0] = -1\n",
    "    \n",
    "    # Plot\n",
    "    img = ax.imshow(class_grid, origin='lower', extent=(C_vals.min(), C_vals.max(), D_vals.min(), D_vals.max()),\n",
    "                    cmap=cmap, norm=norm, aspect='auto')\n",
    "    ax.set_title(f'G = {G_val:.2f}')\n",
    "    ax.set_xlabel('C')\n",
    "    ax.set_ylabel('D')\n",
    "\n",
    "fig.suptitle('Heatmap of sign(det(H2)) for various G')\n",
    "plt.tight_layout(rect=[0, 0, 1, 0.95])\n"
   ]
  },
  {
   "cell_type": "code",
   "execution_count": 434,
   "metadata": {},
   "outputs": [
    {
     "data": {
      "image/png": "[encoded data removed]",
      "text/plain": [
       "<Figure size 1500x300 with 5 Axes>"
      ]
     },
     "metadata": {},
     "output_type": "display_data"
    }
   ],
   "source": [
    "# Define symbols\n",
    "A, C, D, G = sp.symbols('A C D G', real=True)\n",
    "\n",
    "# Define psi1 symbolic expression\n",
    "psi1_sym = 9/(4*G) * (-(2*C + D) + sp.sqrt((2*C + D)**2 - (8/3)*A*G))\n",
    "\n",
    "# Define H2 symbolic determinant from Hessian (assuming H_int6 is defined)\n",
    "# Replace H_int6 with your actual Hessian matrix variable\n",
    "# H2_sym = sp.simplify(H_int6.det().subs({psi1: psi1_sym, psi1c: psi1_sym}))\n",
    "# For demonstration, we use psi1_sym - 1 to create a placeholder H2_sym\n",
    "\n",
    "# Lambdify expressions for numeric evaluation\n",
    "psi1_func = sp.lambdify((A, C, D, G), psi1_sym, 'numpy')\n",
    "\n",
    "\n",
    "# Grid settings\n",
    "A_val = -1\n",
    "G_values = np.linspace(0.01, 0.9, 5)\n",
    "C_vals = np.linspace(-1, 1, 300)\n",
    "D_vals = np.linspace(-1, 1, 300)\n",
    "C_grid, D_grid = np.meshgrid(C_vals, D_vals)\n",
    "\n",
    "# Colormap and classification\n",
    "cmap = plt.matplotlib.colors.ListedColormap(['red', 'white', 'blue'])\n",
    "bounds = [-1.5, -0.5, 0.5, 1.5]\n",
    "norm = plt.matplotlib.colors.BoundaryNorm(bounds, cmap.N)\n",
    "\n",
    "# Plot heatmaps with contour for psi1 = 1\n",
    "fig, axes = plt.subplots(1, len(G_values), figsize=(15, 3))\n",
    "for ax, G_val in zip(axes, G_values):\n",
    "    # Evaluate determinant grid and psi1 grid\n",
    "    H2_grid = H2_func(A_val, C_grid, D_grid, G_val)\n",
    "    psi1_grid = psi1_func(A_val, C_grid, D_grid, G_val)\n",
    "    \n",
    "    # Classify sign for H2\n",
    "    class_grid = np.zeros_like(H2_grid)\n",
    "    class_grid[H2_grid > 0] = 1\n",
    "    class_grid[H2_grid < 0] = -1\n",
    "    \n",
    "    # Show heatmap\n",
    "    im = ax.imshow(class_grid, origin='lower',\n",
    "                   extent=(C_vals.min(), C_vals.max(), D_vals.min(), D_vals.max()),\n",
    "                   cmap=cmap, norm=norm, aspect='equal')\n",
    "    \n",
    "    # Add contour where psi1 = 1\n",
    "    contour = ax.contour(C_grid, D_grid, psi1_grid, levels=[1.0], colors='black', linewidths=1)\n",
    "    \n",
    "    ax.set_title(f'G = {G_val:.2f}')\n",
    "    ax.set_xlabel('C')\n",
    "    ax.set_ylabel('D')\n",
    "\n",
    "# Add color legend\n",
    "from matplotlib.patches import Patch\n",
    "legend_elements = [Patch(color='blue', label='det > 0'),\n",
    "                   Patch(color='white', label='det = 0'),\n",
    "                   Patch(color='red', label='det < 0'),\n",
    "                   Patch(color='black', label='psi1 = 1')]\n",
    "fig.legend(handles=legend_elements, loc='upper center', ncol=4)\n",
    "fig.suptitle('Heatmap of sign(det(H2)) with psi1=1 contour')\n",
    "plt.tight_layout(rect=[0, 0, 1, 0.95])\n",
    "plt.show()"
   ]
  },
  {
   "cell_type": "code",
   "execution_count": 421,
   "metadata": {},
   "outputs": [
    {
     "name": "stderr",
     "output_type": "stream",
     "text": [
      "/var/folders/kj/t4mlwngd4xd5339jy_pt1t180000gn/T/ipykernel_18362/2424030512.py:31: UserWarning: No contour levels were found within the data range.\n",
      "  ax.contour(G_grid, D_grid, psi1_grid, levels=[1.0], colors='black', linewidths=1)\n"
     ]
    },
    {
     "data": {
      "image/png": "[encoded data removed]",
      "text/plain": [
       "<Figure size 1500x400 with 7 Axes>"
      ]
     },
     "metadata": {},
     "output_type": "display_data"
    }
   ],
   "source": [
    "\n",
    "\n",
    "\n",
    "\n",
    "\n",
    "# Parameters\n",
    "A_val = -1\n",
    "C_values = [-2,-1,-0.5 ,0.0,0.5,1, 2]  # select C values\n",
    "G_vals = np.linspace(0.1, 5.0, 300)\n",
    "D_vals = np.linspace(-2.0, 2.0, 300)\n",
    "G_grid, D_grid = np.meshgrid(G_vals, D_vals)\n",
    "\n",
    "# Colormap and normalization\n",
    "cmap = plt.matplotlib.colors.ListedColormap(['red', 'white', 'blue'])\n",
    "bounds = [-1, -0.5, 0.5, 1]\n",
    "norm = plt.matplotlib.colors.BoundaryNorm(bounds, cmap.N)\n",
    "\n",
    "# Plot heatmaps for each C\n",
    "fig, axes = plt.subplots(1, len(C_values), figsize=(15, 4), sharey=True)\n",
    "for ax, C_val in zip(axes, C_values):\n",
    "    # Evaluate on G-D grid\n",
    "    H2_grid = H2_func(A_val, C_val, D_grid, G_grid)  # note argument order matches lambdify\n",
    "    psi1_grid = psi1_func(A_val, C_val, D_grid, G_grid)\n",
    "    \n",
    "    # Classify sign of H2\n",
    "    class_grid = np.zeros_like(H2_grid)\n",
    "    class_grid[H2_grid > 0] = 1\n",
    "    class_grid[H2_grid < 0] = -1\n",
    "    \n",
    "    # Plot heatmap\n",
    "    im = ax.imshow(class_grid, origin='lower',\n",
    "                   extent=(G_vals.min(), G_vals.max(), D_vals.min(), D_vals.max()),\n",
    "                   aspect='auto', cmap=cmap, norm=norm)\n",
    "    \n",
    "    # Overlay contour where psi1 = 1\n",
    "    ax.contour(G_grid, D_grid, psi1_grid, levels=[1.0], colors='black', linewidths=1)\n",
    "    \n",
    "    ax.set_title(f'C = {C_val}')\n",
    "    ax.set_xlabel('G')\n",
    "    if ax is axes[0]:\n",
    "        ax.set_ylabel('D')\n",
    "\n",
    "# Add legend\n",
    "from matplotlib.patches import Patch\n",
    "legend_elements = [\n",
    "    Patch(color='blue', label='det > 0'),\n",
    "    Patch(color='white', label='det = 0'),\n",
    "    Patch(color='red', label='det < 0'),\n",
    "    Patch(color='black', label='psi1 = 1')\n",
    "]\n",
    "fig.legend(handles=legend_elements, loc='upper center', ncol=4)\n",
    "fig.suptitle('Sign(det(H2)) heatmaps for fixed C values with psi1=1 contour')\n",
    "plt.tight_layout(rect=[0, 0, 1, 0.95])\n",
    "plt.show()\n"
   ]
  },
  {
   "cell_type": "code",
   "execution_count": 422,
   "metadata": {},
   "outputs": [
    {
     "data": {
      "image/png": "[encoded data removed]",
      "text/plain": [
       "<Figure size 1500x400 with 7 Axes>"
      ]
     },
     "metadata": {},
     "output_type": "display_data"
    }
   ],
   "source": [
    "# Parameters\n",
    "A_val = -1\n",
    "D_values = [-2,-1,-0.5, 0.0, 0.5,1,2]   # pick values of D\n",
    "G_vals = np.linspace(0.1, 5.0, 300)\n",
    "C_vals = np.linspace(-2.0, 2.0, 300)\n",
    "G_grid, C_grid = np.meshgrid(G_vals, C_vals)\n",
    "\n",
    "# Colormap\n",
    "cmap = plt.matplotlib.colors.ListedColormap(['red', 'white', 'blue'])\n",
    "bounds = [-1.5, -0.5, 0.5, 1.5]\n",
    "norm = plt.matplotlib.colors.BoundaryNorm(bounds, cmap.N)\n",
    "\n",
    "# Plot heatmaps for each D\n",
    "fig, axes = plt.subplots(1, len(D_values), figsize=(15, 4), sharey=True)\n",
    "for ax, D_val in zip(axes, D_values):\n",
    "    # Evaluate grids\n",
    "    H2_grid  = H2_func(A_val, C_grid, D_val, G_grid)\n",
    "    psi1_grid= psi1_func(A_val, C_grid, D_val, G_grid)\n",
    "    \n",
    "    # Classify sign of H2\n",
    "    class_grid = np.zeros_like(H2_grid)\n",
    "    class_grid[H2_grid > 0] = 1\n",
    "    class_grid[H2_grid < 0] = -1\n",
    "    \n",
    "    # Display heatmap: x=G, y=C\n",
    "    im = ax.imshow(class_grid, origin='lower',\n",
    "                   extent=(G_vals.min(), G_vals.max(), C_vals.min(), C_vals.max()),\n",
    "                   aspect='auto', cmap=cmap, norm=norm)\n",
    "    \n",
    "    # Overlay psi1=1 contour\n",
    "    ax.contour(G_grid, C_grid, psi1_grid, levels=[1.0], colors='black', linewidths=1)\n",
    "    \n",
    "    ax.set_title(f'D = {D_val}')\n",
    "    ax.set_xlabel('G')\n",
    "    if ax is axes[0]:\n",
    "        ax.set_ylabel('C')\n",
    "\n",
    "# Legend\n",
    "from matplotlib.patches import Patch\n",
    "legend_elements = [\n",
    "    Patch(color='blue', label='det > 0'),\n",
    "    Patch(color='white', label='det = 0'),\n",
    "    Patch(color='red', label='det < 0'),\n",
    "    Patch(color='black', label='psi1 = 1')\n",
    "]\n",
    "fig.legend(handles=legend_elements, loc='upper center', ncol=4)\n",
    "fig.suptitle('Heatmaps of sign(det(H2)) for fixed D values with psi1=1 contour')\n",
    "plt.tight_layout(rect=[0, 0, 1, 0.95])\n",
    "plt.show()"
   ]
  },
  {
   "cell_type": "code",
   "execution_count": 423,
   "metadata": {},
   "outputs": [
    {
     "data": {
      "text/latex": [
       "$\\displaystyle 0.168874902655494$"
      ],
      "text/plain": [
       "0.168874902655494"
      ]
     },
     "execution_count": 423,
     "metadata": {},
     "output_type": "execute_result"
    }
   ],
   "source": [
    "\n",
    "H2.subs({A:-1,G:0.1,C:-1,D:-1})"
   ]
  },
  {
   "cell_type": "markdown",
   "metadata": {},
   "source": [
    "# Misc (Original attempt with wrong hessian)"
   ]
  },
  {
   "cell_type": "code",
   "execution_count": 424,
   "metadata": {},
   "outputs": [
    {
     "data": {
      "text/latex": [
       "$\\displaystyle \\left[\\begin{matrix}\\frac{A}{3} + \\frac{4 C \\psi_{1} \\overline{\\psi_{1}}}{9} + \\frac{2 D \\psi_{1} \\overline{\\psi_{1}}}{9} & - \\frac{A}{6} - \\frac{2 C \\psi_{1} \\overline{\\psi_{1}}}{9} - \\frac{D \\psi_{1} \\overline{\\psi_{1}}}{9}\\\\- \\frac{A}{6} - \\frac{2 C \\psi_{1} \\overline{\\psi_{1}}}{9} - \\frac{D \\psi_{1} \\overline{\\psi_{1}}}{9} & \\frac{A}{3} + \\frac{5 C \\psi_{1} \\overline{\\psi_{1}}}{18} + \\frac{D \\psi_{1} \\overline{\\psi_{1}}}{9}\\end{matrix}\\right]$"
      ],
      "text/plain": [
       "Matrix([\n",
       "[A/3 + 4*C*psi1*conjugate(psi1)/9 + 2*D*psi1*conjugate(psi1)/9, -A/6 - 2*C*psi1*conjugate(psi1)/9 - D*psi1*conjugate(psi1)/9],\n",
       "[ -A/6 - 2*C*psi1*conjugate(psi1)/9 - D*psi1*conjugate(psi1)/9, A/3 + 5*C*psi1*conjugate(psi1)/18 + D*psi1*conjugate(psi1)/9]])"
      ]
     },
     "execution_count": 424,
     "metadata": {},
     "output_type": "execute_result"
    }
   ],
   "source": [
    "## to check blocks\n",
    "##evaluated at psi2 = 0\n",
    "Hstar = sp.simplify(H).subs({ psi1c: sp.conjugate(psi1), psi2c: 0 ,psi2: 0})\n",
    "sp.simplify(Hstar)"
   ]
  },
  {
   "cell_type": "code",
   "execution_count": 425,
   "metadata": {},
   "outputs": [
    {
     "data": {
      "text/latex": [
       "$\\displaystyle \\left[\\begin{matrix}\\frac{2 A G^{2} - 54 C \\left(C + \\frac{D}{2} + 0.816496580927726 \\sqrt{- A G + 0.375 \\left(2 C + D\\right)^{2}}\\right)^{2} - 27 D \\left(C + \\frac{D}{2} + 0.816496580927726 \\sqrt{- A G + 0.375 \\left(2 C + D\\right)^{2}}\\right)^{2}}{6 G^{2}} & \\frac{- 2 A G^{2} + 54 C \\left(C + \\frac{D}{2} + 0.816496580927726 \\sqrt{- A G + 0.375 \\left(2 C + D\\right)^{2}}\\right)^{2} + 27 D \\left(C + \\frac{D}{2} + 0.816496580927726 \\sqrt{- A G + 0.375 \\left(2 C + D\\right)^{2}}\\right)^{2}}{12 G^{2}}\\\\\\frac{- 2 A G^{2} + 54 C \\left(C + \\frac{D}{2} + 0.816496580927726 \\sqrt{- A G + 0.375 \\left(2 C + D\\right)^{2}}\\right)^{2} + 27 D \\left(C + \\frac{D}{2} + 0.816496580927726 \\sqrt{- A G + 0.375 \\left(2 C + D\\right)^{2}}\\right)^{2}}{12 G^{2}} & \\frac{8 A G^{2} - 135 C \\left(C + \\frac{D}{2} + 0.816496580927726 \\sqrt{- A G + 0.375 \\left(2 C + D\\right)^{2}}\\right)^{2} - 54 D \\left(C + \\frac{D}{2} + 0.816496580927726 \\sqrt{- A G + 0.375 \\left(2 C + D\\right)^{2}}\\right)^{2}}{24 G^{2}}\\end{matrix}\\right]$"
      ],
      "text/plain": [
       "Matrix([\n",
       "[  (2*A*G**2 - 54*C*(C + D/2 + 0.816496580927726*sqrt(-A*G + 0.375*(2*C + D)**2))**2 - 27*D*(C + D/2 + 0.816496580927726*sqrt(-A*G + 0.375*(2*C + D)**2))**2)/(6*G**2), (-2*A*G**2 + 54*C*(C + D/2 + 0.816496580927726*sqrt(-A*G + 0.375*(2*C + D)**2))**2 + 27*D*(C + D/2 + 0.816496580927726*sqrt(-A*G + 0.375*(2*C + D)**2))**2)/(12*G**2)],\n",
       "[(-2*A*G**2 + 54*C*(C + D/2 + 0.816496580927726*sqrt(-A*G + 0.375*(2*C + D)**2))**2 + 27*D*(C + D/2 + 0.816496580927726*sqrt(-A*G + 0.375*(2*C + D)**2))**2)/(12*G**2), (8*A*G**2 - 135*C*(C + D/2 + 0.816496580927726*sqrt(-A*G + 0.375*(2*C + D)**2))**2 - 54*D*(C + D/2 + 0.816496580927726*sqrt(-A*G + 0.375*(2*C + D)**2))**2)/(24*G**2)]])"
      ]
     },
     "execution_count": 425,
     "metadata": {},
     "output_type": "execute_result"
    }
   ],
   "source": [
    "## Hessian evaluated at f.p.\n",
    "H_eval=Hstar.subs({psi1:-1*r,sp.conjugate(psi1):r})\n",
    "sp.simplify(H_eval)"
   ]
  },
  {
   "cell_type": "code",
   "execution_count": 426,
   "metadata": {},
   "outputs": [
    {
     "data": {
      "text/latex": [
       "$\\displaystyle \\frac{4 A^{2} G^{4} - 18 A G^{2} \\cdot \\left(9 C + 4 D\\right) \\left(C + \\frac{D}{2} + 0.816496580927726 \\sqrt{- A G + 0.375 \\left(2 C + D\\right)^{2}}\\right)^{2} + 243 \\left(C + \\frac{D}{2} + 0.816496580927726 \\sqrt{- A G + 0.375 \\left(2 C + D\\right)^{2}}\\right)^{4} \\cdot \\left(6 C^{2} + 5 C D + D^{2}\\right)}{48 G^{4}}$"
      ],
      "text/plain": [
       "(4*A**2*G**4 - 18*A*G**2*(9*C + 4*D)*(C + D/2 + 0.816496580927726*sqrt(-A*G + 0.375*(2*C + D)**2))**2 + 243*(C + D/2 + 0.816496580927726*sqrt(-A*G + 0.375*(2*C + D)**2))**4*(6*C**2 + 5*C*D + D**2))/(48*G**4)"
      ]
     },
     "execution_count": 426,
     "metadata": {},
     "output_type": "execute_result"
    }
   ],
   "source": [
    "\n",
    "Hdet = Hstar.det().subs({psi1:-1*r,sp.conjugate(psi1):r})\n",
    "sp.simplify(Hdet)\n"
   ]
  },
  {
   "cell_type": "code",
   "execution_count": 427,
   "metadata": {},
   "outputs": [
    {
     "data": {
      "text/latex": [
       "$\\displaystyle \\left\\{ \\frac{4.875 A C G + 2.25 A D G + 0.333333333333333 A G^{2} - 14.625 C^{3} - 21.375 C^{2} D - 14.625 C^{2} \\sqrt{- 0.666666666666667 A G + C^{2} + C D + 0.25 D^{2}} - 10.40625 C D^{2} - 14.0625 C D \\sqrt{- 0.666666666666667 A G + C^{2} + C D + 0.25 D^{2}} - 1.6875 D^{3} - 3.375 D^{2} \\sqrt{- 0.666666666666667 A G + C^{2} + C D + 0.25 D^{2}} - 26.6935736648355 \\sqrt{0.0144069469113874 A^{2} C^{2} G^{2} + 0.0149990132228143 A^{2} C D G^{2} + 0.00140341644190075 A^{2} C G^{3} + 0.00394710874284586 A^{2} D^{2} G^{2} + 0.000701708220950376 A^{2} D G^{3} + 3.89837900527987 \\cdot 10^{-5} A^{2} G^{4} - 0.172883362936649 A C^{4} G - 0.35287152161042 A C^{3} D G - 0.00421024932570226 A C^{3} G^{2} - 0.0864416814683244 A C^{3} G \\sqrt{- 0.666666666666667 A G + C^{2} + C D + 0.25 D^{2}} - 0.270574304322084 A C^{2} D^{2} G - 0.00631537398855339 A C^{2} D G^{2} - 0.133214920071048 A C^{2} D G \\sqrt{- 0.666666666666667 A G + C^{2} + C D + 0.25 D^{2}} - 0.00421024932570226 A C^{2} G^{2} \\sqrt{- 0.666666666666667 A G + C^{2} + C D + 0.25 D^{2}} - 0.0923623445825932 A C D^{3} G - 0.00315768699427669 A C D^{2} G^{2} - 0.0686796921255181 A C D^{2} G \\sqrt{- 0.666666666666667 A G + C^{2} + C D + 0.25 D^{2}} - 0.00421024932570226 A C D G^{2} \\sqrt{- 0.666666666666667 A G + C^{2} + C D + 0.25 D^{2}} - 0.0118413262285376 A D^{4} G - 0.000526281165712782 A D^{3} G^{2} - 0.0118413262285376 A D^{3} G \\sqrt{- 0.666666666666667 A G + C^{2} + C D + 0.25 D^{2}} - 0.00105256233142556 A D^{2} G^{2} \\sqrt{- 0.666666666666667 A G + C^{2} + C D + 0.25 D^{2}} + 0.259325044404973 C^{6} + 0.788632326820604 C^{5} D + 0.259325044404973 C^{5} \\sqrt{- 0.666666666666667 A G + C^{2} + C D + 0.25 D^{2}} + C^{4} D^{2} + 0.658969804618117 C^{4} D \\sqrt{- 0.666666666666667 A G + C^{2} + C D + 0.25 D^{2}} + 0.676731793960924 C^{3} D^{3} + 0.670515097690942 C^{3} D^{2} \\sqrt{- 0.666666666666667 A G + C^{2} + C D + 0.25 D^{2}} + 0.257770870337478 C^{2} D^{4} + 0.341474245115453 C^{2} D^{3} \\sqrt{- 0.666666666666667 A G + C^{2} + C D + 0.25 D^{2}} + 0.0523978685612789 C D^{5} + 0.0870337477797514 C D^{4} \\sqrt{- 0.666666666666667 A G + C^{2} + C D + 0.25 D^{2}} + 0.0044404973357016 D^{6} + 0.0088809946714032 D^{5} \\sqrt{- 0.666666666666667 A G + C^{2} + C D + 0.25 D^{2}}}}{G^{2}} : 1, \\  \\frac{4.875 A C G + 2.25 A D G + 0.333333333333333 A G^{2} - 14.625 C^{3} - 21.375 C^{2} D - 14.625 C^{2} \\sqrt{- 0.666666666666667 A G + C^{2} + C D + 0.25 D^{2}} - 10.40625 C D^{2} - 14.0625 C D \\sqrt{- 0.666666666666667 A G + C^{2} + C D + 0.25 D^{2}} - 1.6875 D^{3} - 3.375 D^{2} \\sqrt{- 0.666666666666667 A G + C^{2} + C D + 0.25 D^{2}} + 26.6935736648355 \\sqrt{0.0144069469113874 A^{2} C^{2} G^{2} + 0.0149990132228143 A^{2} C D G^{2} + 0.00140341644190075 A^{2} C G^{3} + 0.00394710874284586 A^{2} D^{2} G^{2} + 0.000701708220950376 A^{2} D G^{3} + 3.89837900527987 \\cdot 10^{-5} A^{2} G^{4} - 0.172883362936649 A C^{4} G - 0.35287152161042 A C^{3} D G - 0.00421024932570226 A C^{3} G^{2} - 0.0864416814683244 A C^{3} G \\sqrt{- 0.666666666666667 A G + C^{2} + C D + 0.25 D^{2}} - 0.270574304322084 A C^{2} D^{2} G - 0.00631537398855339 A C^{2} D G^{2} - 0.133214920071048 A C^{2} D G \\sqrt{- 0.666666666666667 A G + C^{2} + C D + 0.25 D^{2}} - 0.00421024932570226 A C^{2} G^{2} \\sqrt{- 0.666666666666667 A G + C^{2} + C D + 0.25 D^{2}} - 0.0923623445825932 A C D^{3} G - 0.00315768699427669 A C D^{2} G^{2} - 0.0686796921255181 A C D^{2} G \\sqrt{- 0.666666666666667 A G + C^{2} + C D + 0.25 D^{2}} - 0.00421024932570226 A C D G^{2} \\sqrt{- 0.666666666666667 A G + C^{2} + C D + 0.25 D^{2}} - 0.0118413262285376 A D^{4} G - 0.000526281165712782 A D^{3} G^{2} - 0.0118413262285376 A D^{3} G \\sqrt{- 0.666666666666667 A G + C^{2} + C D + 0.25 D^{2}} - 0.00105256233142556 A D^{2} G^{2} \\sqrt{- 0.666666666666667 A G + C^{2} + C D + 0.25 D^{2}} + 0.259325044404973 C^{6} + 0.788632326820604 C^{5} D + 0.259325044404973 C^{5} \\sqrt{- 0.666666666666667 A G + C^{2} + C D + 0.25 D^{2}} + C^{4} D^{2} + 0.658969804618117 C^{4} D \\sqrt{- 0.666666666666667 A G + C^{2} + C D + 0.25 D^{2}} + 0.676731793960924 C^{3} D^{3} + 0.670515097690942 C^{3} D^{2} \\sqrt{- 0.666666666666667 A G + C^{2} + C D + 0.25 D^{2}} + 0.257770870337478 C^{2} D^{4} + 0.341474245115453 C^{2} D^{3} \\sqrt{- 0.666666666666667 A G + C^{2} + C D + 0.25 D^{2}} + 0.0523978685612789 C D^{5} + 0.0870337477797514 C D^{4} \\sqrt{- 0.666666666666667 A G + C^{2} + C D + 0.25 D^{2}} + 0.0044404973357016 D^{6} + 0.0088809946714032 D^{5} \\sqrt{- 0.666666666666667 A G + C^{2} + C D + 0.25 D^{2}}}}{G^{2}} : 1\\right\\}$"
      ],
      "text/plain": [
       "{(4.875*A*C*G + 2.25*A*D*G + 0.333333333333333*A*G**2 - 14.625*C**3 - 21.375*C**2*D - 14.625*C**2*sqrt(-0.666666666666667*A*G + C**2 + C*D + 0.25*D**2) - 10.40625*C*D**2 - 14.0625*C*D*sqrt(-0.666666666666667*A*G + C**2 + C*D + 0.25*D**2) - 1.6875*D**3 - 3.375*D**2*sqrt(-0.666666666666667*A*G + C**2 + C*D + 0.25*D**2) - 26.6935736648355*sqrt(0.0144069469113874*A**2*C**2*G**2 + 0.0149990132228143*A**2*C*D*G**2 + 0.00140341644190075*A**2*C*G**3 + 0.00394710874284586*A**2*D**2*G**2 + 0.000701708220950376*A**2*D*G**3 + 3.89837900527987e-5*A**2*G**4 - 0.172883362936649*A*C**4*G - 0.35287152161042*A*C**3*D*G - 0.00421024932570226*A*C**3*G**2 - 0.0864416814683244*A*C**3*G*sqrt(-0.666666666666667*A*G + C**2 + C*D + 0.25*D**2) - 0.270574304322084*A*C**2*D**2*G - 0.00631537398855339*A*C**2*D*G**2 - 0.133214920071048*A*C**2*D*G*sqrt(-0.666666666666667*A*G + C**2 + C*D + 0.25*D**2) - 0.00421024932570226*A*C**2*G**2*sqrt(-0.666666666666667*A*G + C**2 + C*D + 0.25*D**2) - 0.0923623445825932*A*C*D**3*G - 0.00315768699427669*A*C*D**2*G**2 - 0.0686796921255181*A*C*D**2*G*sqrt(-0.666666666666667*A*G + C**2 + C*D + 0.25*D**2) - 0.00421024932570226*A*C*D*G**2*sqrt(-0.666666666666667*A*G + C**2 + C*D + 0.25*D**2) - 0.0118413262285376*A*D**4*G - 0.000526281165712782*A*D**3*G**2 - 0.0118413262285376*A*D**3*G*sqrt(-0.666666666666667*A*G + C**2 + C*D + 0.25*D**2) - 0.00105256233142556*A*D**2*G**2*sqrt(-0.666666666666667*A*G + C**2 + C*D + 0.25*D**2) + 0.259325044404973*C**6 + 0.788632326820604*C**5*D + 0.259325044404973*C**5*sqrt(-0.666666666666667*A*G + C**2 + C*D + 0.25*D**2) + C**4*D**2 + 0.658969804618117*C**4*D*sqrt(-0.666666666666667*A*G + C**2 + C*D + 0.25*D**2) + 0.676731793960924*C**3*D**3 + 0.670515097690942*C**3*D**2*sqrt(-0.666666666666667*A*G + C**2 + C*D + 0.25*D**2) + 0.257770870337478*C**2*D**4 + 0.341474245115453*C**2*D**3*sqrt(-0.666666666666667*A*G + C**2 + C*D + 0.25*D**2) + 0.0523978685612789*C*D**5 + 0.0870337477797514*C*D**4*sqrt(-0.666666666666667*A*G + C**2 + C*D + 0.25*D**2) + 0.0044404973357016*D**6 + 0.0088809946714032*D**5*sqrt(-0.666666666666667*A*G + C**2 + C*D + 0.25*D**2)))/G**2: 1, (4.875*A*C*G + 2.25*A*D*G + 0.333333333333333*A*G**2 - 14.625*C**3 - 21.375*C**2*D - 14.625*C**2*sqrt(-0.666666666666667*A*G + C**2 + C*D + 0.25*D**2) - 10.40625*C*D**2 - 14.0625*C*D*sqrt(-0.666666666666667*A*G + C**2 + C*D + 0.25*D**2) - 1.6875*D**3 - 3.375*D**2*sqrt(-0.666666666666667*A*G + C**2 + C*D + 0.25*D**2) + 26.6935736648355*sqrt(0.0144069469113874*A**2*C**2*G**2 + 0.0149990132228143*A**2*C*D*G**2 + 0.00140341644190075*A**2*C*G**3 + 0.00394710874284586*A**2*D**2*G**2 + 0.000701708220950376*A**2*D*G**3 + 3.89837900527987e-5*A**2*G**4 - 0.172883362936649*A*C**4*G - 0.35287152161042*A*C**3*D*G - 0.00421024932570226*A*C**3*G**2 - 0.0864416814683244*A*C**3*G*sqrt(-0.666666666666667*A*G + C**2 + C*D + 0.25*D**2) - 0.270574304322084*A*C**2*D**2*G - 0.00631537398855339*A*C**2*D*G**2 - 0.133214920071048*A*C**2*D*G*sqrt(-0.666666666666667*A*G + C**2 + C*D + 0.25*D**2) - 0.00421024932570226*A*C**2*G**2*sqrt(-0.666666666666667*A*G + C**2 + C*D + 0.25*D**2) - 0.0923623445825932*A*C*D**3*G - 0.00315768699427669*A*C*D**2*G**2 - 0.0686796921255181*A*C*D**2*G*sqrt(-0.666666666666667*A*G + C**2 + C*D + 0.25*D**2) - 0.00421024932570226*A*C*D*G**2*sqrt(-0.666666666666667*A*G + C**2 + C*D + 0.25*D**2) - 0.0118413262285376*A*D**4*G - 0.000526281165712782*A*D**3*G**2 - 0.0118413262285376*A*D**3*G*sqrt(-0.666666666666667*A*G + C**2 + C*D + 0.25*D**2) - 0.00105256233142556*A*D**2*G**2*sqrt(-0.666666666666667*A*G + C**2 + C*D + 0.25*D**2) + 0.259325044404973*C**6 + 0.788632326820604*C**5*D + 0.259325044404973*C**5*sqrt(-0.666666666666667*A*G + C**2 + C*D + 0.25*D**2) + C**4*D**2 + 0.658969804618117*C**4*D*sqrt(-0.666666666666667*A*G + C**2 + C*D + 0.25*D**2) + 0.676731793960924*C**3*D**3 + 0.670515097690942*C**3*D**2*sqrt(-0.666666666666667*A*G + C**2 + C*D + 0.25*D**2) + 0.257770870337478*C**2*D**4 + 0.341474245115453*C**2*D**3*sqrt(-0.666666666666667*A*G + C**2 + C*D + 0.25*D**2) + 0.0523978685612789*C*D**5 + 0.0870337477797514*C*D**4*sqrt(-0.666666666666667*A*G + C**2 + C*D + 0.25*D**2) + 0.0044404973357016*D**6 + 0.0088809946714032*D**5*sqrt(-0.666666666666667*A*G + C**2 + C*D + 0.25*D**2)))/G**2: 1}"
      ]
     },
     "execution_count": 427,
     "metadata": {},
     "output_type": "execute_result"
    }
   ],
   "source": [
    "H_sub = Hstar.subs({psi1: -r, sp.conjugate(psi1): r})\n",
    "eigs = H_sub.eigenvals() \n",
    "eigs_simpl = { sp.simplify(ev): m for ev, m in eigs.items() }\n",
    "\n",
    "sp.simplify(eigs_simpl) "
   ]
  },
  {
   "cell_type": "markdown",
   "metadata": {},
   "source": [
    "Thus the determinant of the Hessian is given by\n",
    "$$\\text{det}(H) = \\cfrac{-AD^{2}}{74C + 36D}$$"
   ]
  },
  {
   "cell_type": "code",
   "execution_count": 428,
   "metadata": {},
   "outputs": [
    {
     "data": {
      "text/latex": [
       "$\\displaystyle - \\frac{A^{2} D}{72 C + 36 D}$"
      ],
      "text/plain": [
       "-A**2*D/(72*C + 36*D)"
      ]
     },
     "execution_count": 428,
     "metadata": {},
     "output_type": "execute_result"
    }
   ],
   "source": [
    "expr = (\n",
    "      (A*A)/12\n",
    "    + (A*C)/6      * (-3*A/(2*C + D))\n",
    "    + 2*(A*D)/27   * (-3*A/(2*C + D))\n",
    "    + (2*C**2)/27     * (-3*A/(2*C + D))**2\n",
    "    + (5*C*D)/81   * (-3*A/(2*C + D))**2\n",
    "    + (D**2)/81    * (-3*A/(2*C + D))**2\n",
    ")\n",
    "\n",
    "sp.simplify(expr)"
   ]
  },
  {
   "cell_type": "code",
   "execution_count": 429,
   "metadata": {},
   "outputs": [
    {
     "data": {
      "image/png": "[encoded data removed]",
      "text/plain": [
       "<Figure size 700x600 with 2 Axes>"
      ]
     },
     "metadata": {},
     "output_type": "display_data"
    }
   ],
   "source": [
    "import numpy as np\n",
    "import matplotlib.pyplot as plt\n",
    "from matplotlib.colors import ListedColormap\n",
    "\n",
    "# Parameters\n",
    "A = -1\n",
    "C_vals = np.linspace(-1.5, 1.5, 400)\n",
    "D_vals = np.linspace(-1.5, 1.5, 400)\n",
    "C, D = np.meshgrid(C_vals, D_vals)\n",
    "\n",
    "# Compute determinant det(H) = -A * D^2 / (74*C + 36*D)\n",
    "denominator = 74 * C + 36 * D\n",
    "detH = np.full_like(C, np.nan, dtype=float)\n",
    "valid = np.abs(denominator) > 1e-6\n",
    "detH[valid] = -A * D[valid]**2 / denominator[valid]\n",
    "\n",
    "# Create mask: 1 if detH>0, 0 if detH<0\n",
    "mask = np.zeros_like(detH, dtype=int)\n",
    "mask[detH > 0] = 1\n",
    "\n",
    "# Define two-color map: red for 0, blue for 1\n",
    "cmap = ListedColormap(['red', 'blue'])\n",
    "\n",
    "# Plot\n",
    "plt.figure(figsize=(7,6))\n",
    "plt.pcolormesh(C, D, mask, cmap=cmap, shading='auto')\n",
    "plt.colorbar(ticks=[0,1], label='Sign of det(H)')\n",
    "plt.clim(-0.5, 1.5)\n",
    "plt.xlabel('C')\n",
    "plt.ylabel('D')\n",
    "plt.title('Sign of det(H) for A = -1\\nBlue: det(H)>0, Red: det(H)<0\\nDomain: C, D ∈ [-1.5,1.5]')\n",
    "plt.show()"
   ]
  },
  {
   "cell_type": "code",
   "execution_count": 430,
   "metadata": {},
   "outputs": [
    {
     "data": {
      "image/png": "[encoded data removed]",
      "text/plain": [
       "<Figure size 700x600 with 2 Axes>"
      ]
     },
     "metadata": {},
     "output_type": "display_data"
    }
   ],
   "source": [
    "# Fixed parameter\n",
    "A = -1\n",
    "\n",
    "# Grid for C and D\n",
    "C_vals = np.linspace(-1.5, 1.5, 400)\n",
    "D_vals = np.linspace(-1.5, 1.5, 400)\n",
    "C, D = np.meshgrid(C_vals, D_vals)\n",
    "\n",
    "# Avoid singularity where denominator is zero\n",
    "den = 12 * (2*C + D)\n",
    "valid = np.abs(den) > 1e-6\n",
    "\n",
    "# Compute the discriminant inside the square root\n",
    "disc = 25*C**2 + 28*C*D + 8*D**2\n",
    "sqrt_disc = np.sqrt(disc)\n",
    "\n",
    "# Compute the two eigenvalues λ1 and λ2\n",
    "num1 = A * (-5*C - 2*D - sqrt_disc)\n",
    "num2 = A * (-5*C - 2*D + sqrt_disc)\n",
    "lambda1 = np.zeros_like(C, dtype=complex)\n",
    "lambda2 = np.zeros_like(C, dtype=complex)\n",
    "lambda1[valid] = num1[valid] / den[valid]\n",
    "lambda2[valid] = num2[valid] / den[valid]\n",
    "\n",
    "# Compute the product of their real parts\n",
    "prod_real = np.real(lambda1) * np.real(lambda2)\n",
    "\n",
    "# Create a mask: 1 if positive, 0 if negative or zero\n",
    "mask = np.zeros_like(prod_real, dtype=int)\n",
    "mask[prod_real > 0] = 1\n",
    "\n",
    "# Define a two-color map: red for negative, blue for positive\n",
    "cmap = ListedColormap(['red', 'blue'])\n",
    "\n",
    "# Plot the heatmap\n",
    "plt.figure(figsize=(7, 6))\n",
    "plt.pcolormesh(C, D, mask, cmap=cmap, shading='auto')\n",
    "plt.colorbar(ticks=[0, 1], label='Sign of Re(λ1)*Re(λ2)')\n",
    "plt.clim(-0.5, 1.5)\n",
    "plt.xlabel('C')\n",
    "plt.ylabel('D')\n",
    "plt.title('Sign of Re(λ1) × Re(λ2) for A = -1\\nBlue: > 0, Red: < 0\\nC,D ∈ [-1.5, 1.5]')\n",
    "plt.show()"
   ]
  },
  {
   "cell_type": "code",
   "execution_count": 431,
   "metadata": {},
   "outputs": [
    {
     "data": {
      "image/png": "[encoded data removed]",
      "text/plain": [
       "<Figure size 700x600 with 2 Axes>"
      ]
     },
     "metadata": {},
     "output_type": "display_data"
    }
   ],
   "source": [
    "# Fixed parameter\n",
    "A = -1\n",
    "\n",
    "# Grid for C and D\n",
    "C_vals = np.linspace(-1.5, 1.5, 400)\n",
    "D_vals = np.linspace(-1.5, 1.5, 400)\n",
    "C, D = np.meshgrid(C_vals, D_vals)\n",
    "\n",
    "# Avoid singularity where denominator is zero\n",
    "den = 12 * (2*C + D)\n",
    "valid = np.abs(den) > 1e-6\n",
    "\n",
    "# Compute discriminant inside sqrt\n",
    "disc = 25*C**2 + 28*C*D + 8*D**2\n",
    "sqrt_disc = np.sqrt(disc)\n",
    "\n",
    "# Compute eigenvalues λ1 and λ2\n",
    "num1 = A * (-5*C - 2*D - sqrt_disc)\n",
    "num2 = A * (-5*C - 2*D + sqrt_disc)\n",
    "lambda1 = np.zeros_like(C, dtype=complex)\n",
    "lambda2 = np.zeros_like(C, dtype=complex)\n",
    "lambda1[valid] = num1[valid] / den[valid]\n",
    "lambda2[valid] = num2[valid] / den[valid]\n",
    "\n",
    "# Determine mask: red if any Re(λ) > 0, blue otherwise\n",
    "mask = np.zeros_like(C, dtype=int)  # 0->blue, 1->red\n",
    "mask[(np.real(lambda1) > 0) | (np.real(lambda2) > 0)] = 1\n",
    "\n",
    "# Define colormap: blue for 0, red for 1\n",
    "cmap = ListedColormap(['blue', 'red'])\n",
    "\n",
    "# Plot the heatmap\n",
    "plt.figure(figsize=(7, 6))\n",
    "plt.pcolormesh(C, D, mask, cmap=cmap, shading='auto')\n",
    "plt.colorbar(ticks=[0, 1], label='Region')\n",
    "plt.clim(-0.5, 1.5)\n",
    "plt.xlabel('C')\n",
    "plt.ylabel('D')\n",
    "plt.title('Regions where any Re(λ_i)>0\\nRed: any positive, Blue: all ≤ 0\\nC,D ∈ [-1.5,1.5]')\n",
    "plt.show()"
   ]
  },
  {
   "cell_type": "markdown",
   "metadata": {},
   "source": [
    "# Appendix \n",
    "## A1. Real Hessian in $z,z^{*}$\n",
    "Let\n",
    "$$\n",
    "u = \\begin{pmatrix}x\\\\y\\end{pmatrix}, \n",
    "\\quad\n",
    "v = \\begin{pmatrix}z\\\\\\ z^{*}\\end{pmatrix},\n",
    "$$\n",
    "with\n",
    "$$\n",
    "z = x + i\\,y,\n",
    "\\quad\n",
    " z^{*} = x - i\\,y.\n",
    "$$\n",
    "\n",
    "Then the change‐of‐variables matrix and its Hermitian adjoint are\n",
    "$$\n",
    "T = \\frac12\n",
    "\\begin{pmatrix}\n",
    "1 & 1\\\\[6pt]\n",
    "-\\,i & i\n",
    "\\end{pmatrix},\n",
    "\\qquad\n",
    "T^* = \\overline{T}^{\\,T}\n",
    "= \\frac12\n",
    "\\begin{pmatrix}\n",
    "1 & i\\\\[6pt]\n",
    "1 & -\\,i\n",
    "\\end{pmatrix}.\n",
    "$$\n",
    "\n",
    "If the real–variable Hessian is\n",
    "$$\n",
    "H_{(x,y)} =\n",
    "\\begin{pmatrix}\n",
    "f_{xx} & f_{xy}\\\\[6pt]\n",
    "f_{yx} & f_{yy}\n",
    "\\end{pmatrix},\n",
    "$$\n",
    "then in the $(z, z^{*})$–coordinates the Hessian transforms as\n",
    "$$\n",
    "H_{(z,z^{*})} \\;=\\;T^*\\,H_{(x,y)}\\,T.\n",
    "$$\n",
    "\n",
    "Carrying out the block‐multiplication gives\n",
    "\\begin{align*}\n",
    "H_{zz}\n",
    "&=\\frac{1}{4}\\bigl(f_{xx}+f_{yy}\\bigr),\\\\[6pt]\n",
    "H_{z z^{*}}\n",
    "&=\\frac{1}{4}\\bigl(f_{xx}-f_{yy}+2\\,i\\,f_{xy}\\bigr),\\\\[6pt]\n",
    "H_{ z^{*} z}\n",
    "&=\\frac{1}{4}\\bigl(f_{xx}-f_{yy}-2\\,i\\,f_{xy}\\bigr),\\\\[6pt]\n",
    "H_{ z^{*} z^{*}}\n",
    "&=\\frac{1}{4}\\bigl(f_{xx}+f_{yy}\\bigr).\n",
    "\\end{align*}\n",
    "\n",
    "Hence\n",
    "$$\n",
    "H_{(z, z^{*})}\n",
    "=\\frac14\n",
    "\\begin{pmatrix}\n",
    "f_{xx}+f_{yy} & f_{xx}-f_{yy}+2\\,i\\,f_{xy}\\\\[6pt]\n",
    "f_{xx}-f_{yy}-2\\,i\\,f_{xy} & f_{xx}+f_{yy}\n",
    "\\end{pmatrix} = \\begin{pmatrix}\n",
    " f_{zz^{*}} & f_{z^{*}z^{*}}\\\\\n",
    "          f_{zz} & f_{z^{*}z}\n",
    "\\end{pmatrix}  .\n",
    "$$\n"
   ]
  },
  {
   "cell_type": "markdown",
   "metadata": {},
   "source": [
    "## A2. nematics comparison"
   ]
  },
  {
   "cell_type": "code",
   "execution_count": 432,
   "metadata": {},
   "outputs": [
    {
     "name": "stdout",
     "output_type": "stream",
     "text": [
      "Critical s1 (uniaxial): [0, -sqrt(-A/C)/2, sqrt(-A/C)/2]\n",
      "Hessians at critical points:\n",
      "\n",
      "s1 = 0, s2 = 0:\n",
      "⎡4⋅A  2⋅A⎤\n",
      "⎢        ⎥\n",
      "⎣2⋅A  4⋅A⎦\n",
      "Eigenvalues: {6*A: 1, 2*A: 1}\n",
      "\n",
      "s1 = -sqrt(-A/C)/2, s2 = 0:\n",
      "⎡                                 _____          ⎤\n",
      "⎢            -A                  ╱ -A         -A ⎥\n",
      "⎢        8⋅C⋅───          3⋅B⋅  ╱  ───  + 4⋅C⋅───⎥\n",
      "⎢             C               ╲╱    C          C ⎥\n",
      "⎢                                                ⎥\n",
      "⎢        _____                    _____          ⎥\n",
      "⎢       ╱ -A         -A          ╱ -A         -A ⎥\n",
      "⎢3⋅B⋅  ╱  ───  + 4⋅C⋅───  3⋅B⋅  ╱  ───  + 2⋅C⋅───⎥\n",
      "⎣    ╲╱    C          C       ╲╱    C          C ⎦\n",
      "Eigenvalues: {-5*A + 3*B*sqrt(-A/C)/2 - sqrt(C*(-36*A*B**2 + C*(10*A - 3*B*sqrt(-A/C))**2))/(2*C): 1, -5*A + 3*B*sqrt(-A/C)/2 + sqrt(C*(-36*A*B**2 + C*(10*A - 3*B*sqrt(-A/C))**2))/(2*C): 1}\n",
      "\n",
      "s1 = sqrt(-A/C)/2, s2 = 0:\n",
      "⎡                                     _____          ⎤\n",
      "⎢             -A                     ╱ -A         -A ⎥\n",
      "⎢         8⋅C⋅───           - 3⋅B⋅  ╱  ───  + 4⋅C⋅───⎥\n",
      "⎢              C                  ╲╱    C          C ⎥\n",
      "⎢                                                    ⎥\n",
      "⎢          _____                      _____          ⎥\n",
      "⎢         ╱ -A         -A            ╱ -A         -A ⎥\n",
      "⎢- 3⋅B⋅  ╱  ───  + 4⋅C⋅───  - 3⋅B⋅  ╱  ───  + 2⋅C⋅───⎥\n",
      "⎣      ╲╱    C          C         ╲╱    C          C ⎦\n",
      "Eigenvalues: {-5*A - 3*B*sqrt(-A/C)/2 - sqrt(C*(-36*A*B**2 + C*(10*A + 3*B*sqrt(-A/C))**2))/(2*C): 1, -5*A - 3*B*sqrt(-A/C)/2 + sqrt(C*(-36*A*B**2 + C*(10*A + 3*B*sqrt(-A/C))**2))/(2*C): 1}\n"
     ]
    }
   ],
   "source": [
    "# Define symbols for order parameters and coefficients\n",
    "s1, s2, A, B, C ,D= sp.symbols('s1 s2 A B C D', real=True)\n",
    "\n",
    "# Define the biaxial Q-tensor (trace-free) in 3D\n",
    "d = -s1 - s2  # third diagonal element to enforce tracelessness\n",
    "Q = sp.Matrix([[s1, 0, 0],\n",
    "               [0, s2, 0],\n",
    "               [0, 0, d]])\n",
    "\n",
    "# Compute invariants\n",
    "I2 = (Q*Q).trace()   # tr(Q^2)\n",
    "I3 = (Q*Q*Q).trace() # tr(Q^3)\n",
    "\n",
    "# Landau–de Gennes free-energy density F(s1,s2)\n",
    "F = A*I2 + B*I3 + C*(I2**2) \n",
    "F = sp.simplify(F)\n",
    "\n",
    "# Compute gradient\n",
    "grad_F = [sp.diff(F, var) for var in (s1, s2)]\n",
    "\n",
    "# Imposing uniaxial constraint: s2 = 0\n",
    "d_uniax = F.subs(s2, 0)\n",
    "\n",
    "# Solve for critical s1 under s2=0: dF/ds1 = 0\n",
    "dF_ds1 = sp.diff(d_uniax, s1)\n",
    "crit_s1 = sp.solve(dF_ds1, s1)\n",
    "\n",
    "# Compute Hessian of full F(s1,s2)\n",
    "H = sp.hessian(F, (s1, s2))\n",
    "\n",
    "# Evaluate Hessian at s2=0 and each critical s1\n",
    "H_eval = {val: H.subs({s1: val, s2: 0}) for val in crit_s1}\n",
    "\n",
    "# For each Hessian, compute eigenvalues to assess stability\n",
    "def eval_eig(matrix):\n",
    "    return matrix.eigenvals()\n",
    "\n",
    "stability = {val: eval_eig(H_eval[val]) for val in H_eval}\n",
    "\n",
    "# Display results\n",
    "print(\"Critical s1 (uniaxial):\", crit_s1)\n",
    "print(\"Hessians at critical points:\")\n",
    "for val, mat in H_eval.items():\n",
    "    print(f\"\\ns1 = {val}, s2 = 0:\")\n",
    "    sp.pprint(mat)\n",
    "    print(\"Eigenvalues:\", stability[val])"
   ]
  },
  {
   "cell_type": "markdown",
   "metadata": {},
   "source": [
    "Here we see the difference if $B = 0$ these equillibria collapse too saddles!"
   ]
  },
  {
   "cell_type": "code",
   "execution_count": 433,
   "metadata": {},
   "outputs": [
    {
     "name": "stdout",
     "output_type": "stream",
     "text": [
      "Critical s1 (uniaxial): [0, -sqrt(-A/C)/2, sqrt(-A/C)/2]\n",
      "Hessians at critical points:\n",
      "\n",
      "s1 = 0, s2 = 0:\n",
      "⎡4⋅A  2⋅A⎤\n",
      "⎢        ⎥\n",
      "⎣2⋅A  4⋅A⎦\n",
      "Eigenvalues: {6*A: 1, 2*A: 1}\n",
      "\n",
      "s1 = -sqrt(-A/C)/2, s2 = 0:\n",
      "⎡    -A       -A ⎤\n",
      "⎢8⋅C⋅───  4⋅C⋅───⎥\n",
      "⎢     C        C ⎥\n",
      "⎢                ⎥\n",
      "⎢    -A       -A ⎥\n",
      "⎢4⋅C⋅───  2⋅C⋅───⎥\n",
      "⎣     C        C ⎦\n",
      "Eigenvalues: {-10*A: 1, 0: 1}\n",
      "\n",
      "s1 = sqrt(-A/C)/2, s2 = 0:\n",
      "⎡    -A       -A ⎤\n",
      "⎢8⋅C⋅───  4⋅C⋅───⎥\n",
      "⎢     C        C ⎥\n",
      "⎢                ⎥\n",
      "⎢    -A       -A ⎥\n",
      "⎢4⋅C⋅───  2⋅C⋅───⎥\n",
      "⎣     C        C ⎦\n",
      "Eigenvalues: {-10*A: 1, 0: 1}\n"
     ]
    }
   ],
   "source": [
    "# Evaluate Hessian at s2=0 and each critical s1\n",
    "H_eval = {val: H.subs({s1: val, s2: 0,B:0}) for val in crit_s1}\n",
    "\n",
    "# For each Hessian, compute eigenvalues to assess stability\n",
    "def eval_eig(matrix):\n",
    "    return matrix.eigenvals()\n",
    "\n",
    "stability = {val: eval_eig(H_eval[val]) for val in H_eval}\n",
    "\n",
    "# Display results\n",
    "print(\"Critical s1 (uniaxial):\", crit_s1)\n",
    "print(\"Hessians at critical points:\")\n",
    "for val, mat in H_eval.items():\n",
    "    print(f\"\\ns1 = {val}, s2 = 0:\")\n",
    "    sp.pprint(mat)\n",
    "    print(\"Eigenvalues:\", stability[val])"
   ]
  }
 ],
 "metadata": {
  "kernelspec": {
   "display_name": "base",
   "language": "python",
   "name": "python3"
  },
  "language_info": {
   "codemirror_mode": {
    "name": "ipython",
    "version": 3
   },
   "file_extension": ".py",
   "mimetype": "text/x-python",
   "name": "python",
   "nbconvert_exporter": "python",
   "pygments_lexer": "ipython3",
   "version": "3.9.13"
  }
 },
 "nbformat": 4,
 "nbformat_minor": 2
}
