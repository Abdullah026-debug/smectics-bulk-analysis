{
 "cells": [
  {
   "cell_type": "markdown",
   "metadata": {},
   "source": [
    "#  unixial symmetry analysis"
   ]
  },
  {
   "cell_type": "markdown",
   "metadata": {},
   "source": [
    "#### Notes (mostly to myself):\n",
    "\n",
    "<ul>\n",
    "  <li>The algebra done here are all for d=3 but can easily be implemented to d=2 if needed. One can check via the overleaf doc if it agrees with calculoations done there often I shall do it.</li>\n",
    "  <li>Im going to be picking explicit vectors <strong>n</strong>,<strong>m</strong>  as this dosent change of any of the calculations as we work with scalars (hence wlog)</li>\n",
    "  <li>References: I shall try my best to provide a source/references to any \"statments\" of stability but feel free to ask about things</li>\n",
    "</ul>"
   ]
  },
  {
   "cell_type": "markdown",
   "metadata": {},
   "source": [
    "## 1. Algebra check"
   ]
  },
  {
   "cell_type": "code",
   "execution_count": 62,
   "metadata": {},
   "outputs": [
    {
     "name": "stdout",
     "output_type": "stream",
     "text": [
      "⎡2⋅ψ₁   ψ₂                        ⎤\n",
      "⎢──── - ──       0           0    ⎥\n",
      "⎢ 3     3                         ⎥\n",
      "⎢                                 ⎥\n",
      "⎢             ψ₁   2⋅ψ₂           ⎥\n",
      "⎢    0      - ── + ────      0    ⎥\n",
      "⎢             3     3             ⎥\n",
      "⎢                                 ⎥\n",
      "⎢                          ψ₁   ψ₂⎥\n",
      "⎢    0           0       - ── - ──⎥\n",
      "⎣                          3    3 ⎦\n",
      "            ⎛  __   __⎞                 ⎛  __     __⎞               ⎛  __   __\n",
      "⎛  ψ₁   ψ₂⎞ ⎜  ψ₁   ψ₂⎟   ⎛  ψ₁   2⋅ψ₂⎞ ⎜  ψ₁   2⋅ψ₂⎟   ⎛2⋅ψ₁   ψ₂⎞ ⎜2⋅ψ₁   ψ₂\n",
      "⎜- ── - ──⎟⋅⎜- ── - ──⎟ + ⎜- ── + ────⎟⋅⎜- ── + ────⎟ + ⎜──── - ──⎟⋅⎜──── - ──\n",
      "⎝  3    3 ⎠ ⎝  3    3 ⎠   ⎝  3     3  ⎠ ⎝  3     3  ⎠   ⎝ 3     3 ⎠ ⎝ 3     3 \n",
      "\n",
      "⎞\n",
      "⎟\n",
      "⎟\n",
      "⎠\n",
      "2⋅ψ₁   ψ₂\n",
      "──── - ──\n",
      " 3     3 \n"
     ]
    }
   ],
   "source": [
    "import sympy as sp\n",
    "from sympy import pretty_print\n",
    "##preliminaries wlog we may choose vectors n and m to be [1,0,0] and [0,1,0]\n",
    "psi1, psi2 = sp.symbols('psi1 psi2', complex=True)\n",
    "n_vec = sp.Matrix([1,0,0])\n",
    "m_vec = sp.Matrix([0,1,0])\n",
    "d = 3    \n",
    "\n",
    "# E_{ij} tensor\n",
    "E = psi1*(n_vec*n_vec.T - sp.eye(3)/d) + psi2*(m_vec*m_vec.T - sp.eye(3)/d)\n",
    "pretty_print(E)\n",
    "#just testing symbolic computations & derivation first bul term\n",
    "S = sum(E[i,j] * sp.conjugate(E[i,j]) for i in range(3) for j in range(3))\n",
    "pretty_print(S)\n",
    "\n",
    "psi1c, psi2c = sp.symbols('psi1c psi2c', complex=True)\n",
    "S_sub = sp.expand(S).subs({sp.conjugate(psi1): psi1c, sp.conjugate(psi2): psi2c})\n",
    "dS_sub = sp.diff(S_sub, psi1c)\n",
    "result = sp.simplify(dS_sub)\n",
    "pretty_print(result)  # outputs 2*psi1 + psi2"
   ]
  },
  {
   "cell_type": "markdown",
   "metadata": {},
   "source": [
    "### Calculating the $F_{bulk}$ symbolically in terms of $\\psi_{i}$'s :"
   ]
  },
  {
   "cell_type": "code",
   "execution_count": 63,
   "metadata": {},
   "outputs": [
    {
     "data": {
      "text/latex": [
       "$\\displaystyle \\frac{A \\psi_{1}}{3} + \\frac{2 C \\psi_{1}^{2} \\overline{\\psi_{1}}}{9} + \\frac{D \\psi_{1}^{2} \\overline{\\psi_{1}}}{9}$"
      ],
      "text/plain": [
       "A*psi1/3 + 2*C*psi1**2*conjugate(psi1)/9 + D*psi1**2*conjugate(psi1)/9"
      ]
     },
     "execution_count": 63,
     "metadata": {},
     "output_type": "execute_result"
    }
   ],
   "source": [
    "##Original A and C terms in the bulk\n",
    "A, C , D= sp.symbols('A C D', real=True)\n",
    "A1 = sum(E[i,j] * sp.conjugate(E[i,j]) for i in range(3) for j in range(3))\n",
    "C1 = A1 * A1\n",
    "C2 = sum(\n",
    "    E[i, k] * sp.conjugate(E[k, j]) *\n",
    "    E[j, l] * sp.conjugate(E[l, i])\n",
    "    for i in range(3)\n",
    "    for k in range(3)\n",
    "    for j in range(3)\n",
    "    for l in range(3)\n",
    ")\n",
    "Fbulk = A * A1 /2 + C * C1 /4 + D * C2 /4\n",
    "F_sub = sp.expand(Fbulk).subs({sp.conjugate(psi1): psi1c, sp.conjugate(psi2): psi2c})\n",
    "F_diff = sp.diff(F_sub, psi1c)\n",
    "result1 = sp.simplify(F_diff)\n",
    "sp.simplify(result1)\n",
    "fsimp= sp.expand(result1).subs({psi2:0 , psi2c: 0,psi1c: sp.conjugate(psi1)})\n",
    "sp.expand(fsimp)\n",
    "\n"
   ]
  },
  {
   "cell_type": "markdown",
   "metadata": {},
   "source": [
    "#### $A$ term /  $E_{ij}E^{*}_{ij}$ :"
   ]
  },
  {
   "cell_type": "code",
   "execution_count": 64,
   "metadata": {},
   "outputs": [
    {
     "data": {
      "text/latex": [
       "$\\displaystyle \\frac{2 \\psi_{1} \\overline{\\psi_{1}}}{3} - \\frac{\\psi_{1} \\overline{\\psi_{2}}}{3} - \\frac{\\psi_{2} \\overline{\\psi_{1}}}{3} + \\frac{2 \\psi_{2} \\overline{\\psi_{2}}}{3}$"
      ],
      "text/plain": [
       "2*psi1*conjugate(psi1)/3 - psi1*conjugate(psi2)/3 - psi2*conjugate(psi1)/3 + 2*psi2*conjugate(psi2)/3"
      ]
     },
     "execution_count": 64,
     "metadata": {},
     "output_type": "execute_result"
    }
   ],
   "source": [
    "sp.expand(A1)"
   ]
  },
  {
   "cell_type": "markdown",
   "metadata": {},
   "source": [
    "#### $C$ term / $(E_{ij}E^{*}_{ij})^{2}$ :"
   ]
  },
  {
   "cell_type": "code",
   "execution_count": 65,
   "metadata": {},
   "outputs": [
    {
     "data": {
      "text/latex": [
       "$\\displaystyle \\frac{4 \\psi_{1}^{2} \\overline{\\psi_{1}}^{2}}{9} - \\frac{4 \\psi_{1}^{2} \\overline{\\psi_{1}} \\overline{\\psi_{2}}}{9} + \\frac{\\psi_{1}^{2} \\overline{\\psi_{2}}^{2}}{9} - \\frac{4 \\psi_{1} \\psi_{2} \\overline{\\psi_{1}}^{2}}{9} + \\frac{10 \\psi_{1} \\psi_{2} \\overline{\\psi_{1}} \\overline{\\psi_{2}}}{9} - \\frac{4 \\psi_{1} \\psi_{2} \\overline{\\psi_{2}}^{2}}{9} + \\frac{\\psi_{2}^{2} \\overline{\\psi_{1}}^{2}}{9} - \\frac{4 \\psi_{2}^{2} \\overline{\\psi_{1}} \\overline{\\psi_{2}}}{9} + \\frac{4 \\psi_{2}^{2} \\overline{\\psi_{2}}^{2}}{9}$"
      ],
      "text/plain": [
       "4*psi1**2*conjugate(psi1)**2/9 - 4*psi1**2*conjugate(psi1)*conjugate(psi2)/9 + psi1**2*conjugate(psi2)**2/9 - 4*psi1*psi2*conjugate(psi1)**2/9 + 10*psi1*psi2*conjugate(psi1)*conjugate(psi2)/9 - 4*psi1*psi2*conjugate(psi2)**2/9 + psi2**2*conjugate(psi1)**2/9 - 4*psi2**2*conjugate(psi1)*conjugate(psi2)/9 + 4*psi2**2*conjugate(psi2)**2/9"
      ]
     },
     "execution_count": 65,
     "metadata": {},
     "output_type": "execute_result"
    }
   ],
   "source": [
    "sp.expand(C1)"
   ]
  },
  {
   "cell_type": "markdown",
   "metadata": {},
   "source": [
    "#### $\\tilde{C}$ term (to avoid confusion $\\tilde{C} \\rightarrow D$) / $E_{ij}E_{jk}E^{*}_{km}E^{*}_{mi}$:"
   ]
  },
  {
   "cell_type": "code",
   "execution_count": 66,
   "metadata": {},
   "outputs": [
    {
     "data": {
      "text/latex": [
       "$\\displaystyle \\frac{2 \\psi_{1}^{2} \\overline{\\psi_{1}}^{2}}{9} - \\frac{2 \\psi_{1}^{2} \\overline{\\psi_{1}} \\overline{\\psi_{2}}}{9} + \\frac{\\psi_{1}^{2} \\overline{\\psi_{2}}^{2}}{9} - \\frac{2 \\psi_{1} \\psi_{2} \\overline{\\psi_{1}}^{2}}{9} + \\frac{4 \\psi_{1} \\psi_{2} \\overline{\\psi_{1}} \\overline{\\psi_{2}}}{9} - \\frac{2 \\psi_{1} \\psi_{2} \\overline{\\psi_{2}}^{2}}{9} + \\frac{\\psi_{2}^{2} \\overline{\\psi_{1}}^{2}}{9} - \\frac{2 \\psi_{2}^{2} \\overline{\\psi_{1}} \\overline{\\psi_{2}}}{9} + \\frac{2 \\psi_{2}^{2} \\overline{\\psi_{2}}^{2}}{9}$"
      ],
      "text/plain": [
       "2*psi1**2*conjugate(psi1)**2/9 - 2*psi1**2*conjugate(psi1)*conjugate(psi2)/9 + psi1**2*conjugate(psi2)**2/9 - 2*psi1*psi2*conjugate(psi1)**2/9 + 4*psi1*psi2*conjugate(psi1)*conjugate(psi2)/9 - 2*psi1*psi2*conjugate(psi2)**2/9 + psi2**2*conjugate(psi1)**2/9 - 2*psi2**2*conjugate(psi1)*conjugate(psi2)/9 + 2*psi2**2*conjugate(psi2)**2/9"
      ]
     },
     "execution_count": 66,
     "metadata": {},
     "output_type": "execute_result"
    }
   ],
   "source": [
    "sp.expand(C2)"
   ]
  },
  {
   "cell_type": "markdown",
   "metadata": {},
   "source": [
    "Thus the bulk in terms of $\\psi_{i}'$'s is given by "
   ]
  },
  {
   "cell_type": "code",
   "execution_count": 67,
   "metadata": {},
   "outputs": [
    {
     "data": {
      "text/latex": [
       "$\\displaystyle \\frac{A \\psi_{1} \\overline{\\psi_{1}}}{3} - \\frac{A \\psi_{1} \\overline{\\psi_{2}}}{6} - \\frac{A \\psi_{2} \\overline{\\psi_{1}}}{6} + \\frac{A \\psi_{2} \\overline{\\psi_{2}}}{3} + \\frac{C \\psi_{1}^{2} \\overline{\\psi_{1}}^{2}}{9} - \\frac{C \\psi_{1}^{2} \\overline{\\psi_{1}} \\overline{\\psi_{2}}}{9} + \\frac{C \\psi_{1}^{2} \\overline{\\psi_{2}}^{2}}{36} - \\frac{C \\psi_{1} \\psi_{2} \\overline{\\psi_{1}}^{2}}{9} + \\frac{5 C \\psi_{1} \\psi_{2} \\overline{\\psi_{1}} \\overline{\\psi_{2}}}{18} - \\frac{C \\psi_{1} \\psi_{2} \\overline{\\psi_{2}}^{2}}{9} + \\frac{C \\psi_{2}^{2} \\overline{\\psi_{1}}^{2}}{36} - \\frac{C \\psi_{2}^{2} \\overline{\\psi_{1}} \\overline{\\psi_{2}}}{9} + \\frac{C \\psi_{2}^{2} \\overline{\\psi_{2}}^{2}}{9} + \\frac{D \\psi_{1}^{2} \\overline{\\psi_{1}}^{2}}{18} - \\frac{D \\psi_{1}^{2} \\overline{\\psi_{1}} \\overline{\\psi_{2}}}{18} + \\frac{D \\psi_{1}^{2} \\overline{\\psi_{2}}^{2}}{36} - \\frac{D \\psi_{1} \\psi_{2} \\overline{\\psi_{1}}^{2}}{18} + \\frac{D \\psi_{1} \\psi_{2} \\overline{\\psi_{1}} \\overline{\\psi_{2}}}{9} - \\frac{D \\psi_{1} \\psi_{2} \\overline{\\psi_{2}}^{2}}{18} + \\frac{D \\psi_{2}^{2} \\overline{\\psi_{1}}^{2}}{36} - \\frac{D \\psi_{2}^{2} \\overline{\\psi_{1}} \\overline{\\psi_{2}}}{18} + \\frac{D \\psi_{2}^{2} \\overline{\\psi_{2}}^{2}}{18}$"
      ],
      "text/plain": [
       "A*psi1*conjugate(psi1)/3 - A*psi1*conjugate(psi2)/6 - A*psi2*conjugate(psi1)/6 + A*psi2*conjugate(psi2)/3 + C*psi1**2*conjugate(psi1)**2/9 - C*psi1**2*conjugate(psi1)*conjugate(psi2)/9 + C*psi1**2*conjugate(psi2)**2/36 - C*psi1*psi2*conjugate(psi1)**2/9 + 5*C*psi1*psi2*conjugate(psi1)*conjugate(psi2)/18 - C*psi1*psi2*conjugate(psi2)**2/9 + C*psi2**2*conjugate(psi1)**2/36 - C*psi2**2*conjugate(psi1)*conjugate(psi2)/9 + C*psi2**2*conjugate(psi2)**2/9 + D*psi1**2*conjugate(psi1)**2/18 - D*psi1**2*conjugate(psi1)*conjugate(psi2)/18 + D*psi1**2*conjugate(psi2)**2/36 - D*psi1*psi2*conjugate(psi1)**2/18 + D*psi1*psi2*conjugate(psi1)*conjugate(psi2)/9 - D*psi1*psi2*conjugate(psi2)**2/18 + D*psi2**2*conjugate(psi1)**2/36 - D*psi2**2*conjugate(psi1)*conjugate(psi2)/18 + D*psi2**2*conjugate(psi2)**2/18"
      ]
     },
     "execution_count": 67,
     "metadata": {},
     "output_type": "execute_result"
    }
   ],
   "source": [
    "sp.expand(Fbulk)"
   ]
  },
  {
   "cell_type": "markdown",
   "metadata": {},
   "source": [
    "where to be precise with pre factors used:\n",
    "$$F_{bulk} = \\cfrac{A}{2}E_{ij}E^{*}_{ij}+\\cfrac{C}{4}(E_{ij}E^{*}_{ij})^{2}+\\cfrac{D}{4}E_{ij}E^{*}_{jk}E_{kl}E^{*}_{li}.$$"
   ]
  },
  {
   "cell_type": "markdown",
   "metadata": {},
   "source": [
    "## 2. Finding fixed points of dynamics"
   ]
  },
  {
   "cell_type": "markdown",
   "metadata": {},
   "source": [
    "Recall the equation of interest for the non-equillibiurm dynamics was given by\n",
    "$$ \\cfrac{\\partial E_{ij}}{\\partial t} = - \\mu \\cfrac{\\delta F}{\\delta E^{*}_{ij}} $$\n",
    "For now we are interested in $F_{bulk}$ term which only depends only on $E_{ij}$ and not $E_{ij,k}$ but I assume the analysis could be easily generalised to account for the full free energy density (i.e $F = F_{bulk}+F_{comp}+F_{curv}$), Since $F(\\underline{\\underline{E}})$  we may use the Euler lagrange approach for functional derivatives to get\n",
    "\n",
    "$$ \\cfrac{\\partial E_{ij}}{\\partial t} = - \\mu \\cfrac{\\partial F}{\\partial E^{*}_{ij}} .$$\n",
    "\n",
    "Our interest primarily lie in fixed points or rather minima's as these represent the equillibrium points in the phase transition hence we look at when $\\cfrac{\\partial F}{\\partial E^{*}_{ij}} = 0$, however it will prove to be cumborsome to work with tensorial expressions and we rather look at terms that displays biaxial/uniaxial symmetry clearly, hence we shall re express the generalised velocity field via a chain rule i.e\n",
    "\n",
    "$$ \\cfrac{\\partial F}{\\partial E^{*}_{ij}} = \\cfrac{\\partial F}{\\partial \\psi^{*}_{1}} \\cfrac{\\partial \\psi^{*}_{1}}{\\partial E^{*}_{ij}} + \\cfrac{\\partial F}{\\partial \\psi^{*}_{2}} \\cfrac{\\partial \\psi^{*}_{2}}{\\partial E^{*}_{ij}}$$\n",
    "Thus requiring $\\cfrac{\\partial F}{\\partial E^{*}_{ij}} = 0$ will be equaivalent to requiring\n",
    "$$\\cfrac{\\partial F}{\\partial \\psi^{*}_{2}}  = 0 = \\cfrac{\\partial F}{\\partial \\psi^{*}_{1}} $$\n",
    "\n",
    "Clearly are primary focus shall be when $\\psi_{2} =0 \\ \\textbf{and} \\ \\psi_{1} \\neq 0$ (there's no special restriction that it must be $\\psi_{1}$ or $\\psi_{2}$ we may just as well swap the condition if needed). We shall later come back to focus on when $ \\psi_{2} , \\psi_{1} \\neq 0$ as this represent equillibrias that are biaxial and it may be beneficial to look at what configurations favours biaxial solutions.\n",
    "\n",
    "<strong>Remark</strong>: we may concern ourselves with the lagrange multipliers terms too but at the moment theres no reason to believe this contributes to the biaxial symmetry."
   ]
  },
  {
   "cell_type": "markdown",
   "metadata": {},
   "source": [
    "### looking at uniaxial equillibirum points:"
   ]
  },
  {
   "cell_type": "markdown",
   "metadata": {},
   "source": [
    "### Expression for $\\frac{\\partial F}{\\partial \\psi^{*}_{1}}$ (evaluated at $\\psi_{2} = 0$):"
   ]
  },
  {
   "cell_type": "code",
   "execution_count": 68,
   "metadata": {},
   "outputs": [
    {
     "data": {
      "text/latex": [
       "$\\displaystyle \\frac{A \\psi_{1}}{3} + \\frac{2 C \\psi_{1}^{2} \\overline{\\psi_{1}}}{9} + \\frac{D \\psi_{1}^{2} \\overline{\\psi_{1}}}{9}$"
      ],
      "text/plain": [
       "A*psi1/3 + 2*C*psi1**2*conjugate(psi1)/9 + D*psi1**2*conjugate(psi1)/9"
      ]
     },
     "execution_count": 68,
     "metadata": {},
     "output_type": "execute_result"
    }
   ],
   "source": [
    "F_diff = sp.diff(F_sub, psi1c)\n",
    "result1 = sp.simplify(F_diff).subs({psi2:0,psi2c: 0,psi1c: sp.conjugate(psi1)})\n",
    "sp.expand(result1)"
   ]
  },
  {
   "cell_type": "markdown",
   "metadata": {},
   "source": [
    "### Expression for $\\frac{\\partial F}{\\partial \\psi^{*}_{2}}$ (evaluated at $\\psi_{2} = 0$)"
   ]
  },
  {
   "cell_type": "code",
   "execution_count": 69,
   "metadata": {},
   "outputs": [
    {
     "data": {
      "text/latex": [
       "$\\displaystyle - \\frac{A \\psi_{1}}{6} - \\frac{C \\psi_{1}^{2} \\overline{\\psi_{1}}}{9} - \\frac{D \\psi_{1}^{2} \\overline{\\psi_{1}}}{18}$"
      ],
      "text/plain": [
       "-A*psi1/6 - C*psi1**2*conjugate(psi1)/9 - D*psi1**2*conjugate(psi1)/18"
      ]
     },
     "execution_count": 69,
     "metadata": {},
     "output_type": "execute_result"
    }
   ],
   "source": [
    "F_diff2 = sp.diff(F_sub, psi2c)\n",
    "result3 = sp.simplify(F_diff2).subs({psi2:0,psi2c: 0,psi1c: sp.conjugate(psi1)})\n",
    "sp.expand(result3)"
   ]
  },
  {
   "cell_type": "markdown",
   "metadata": {},
   "source": [
    "Here we need only find the solution of $|\\psi_{1}|$ for $\\frac{\\partial F}{\\partial \\psi^{*}_{1}} = 0$ as $\\frac{\\partial F}{\\partial \\psi^{*}_{2}} = 0$ is just the same constraint multilpied by $-2$ (some what fortunately). Now  its easy to see uniaxial equillibria are at \n",
    "$$|\\psi_{1}|= \\sqrt{\\cfrac{-3A}{2B+D}}.$$"
   ]
  },
  {
   "cell_type": "markdown",
   "metadata": {},
   "source": [
    "So the the fixed point associated to $\\cfrac{\\delta F_{bulk}}{\\delta \\psi^{*}_{1}}|_{\\psi_{2}=0}=0$ is given by $|\\psi_{1}|= \\sqrt{\\cfrac{-3A}{2B+D}}$. We may now proceed with analysing the stability of said equillibria and to do so we shall introduce the <em>hessian</em>\n",
    "\n",
    "<strong>Remark</strong> :This ultimately come's with a few constaints on $A,B,D$ for example if $A<0 \\implies 2B+D > 0$ "
   ]
  },
  {
   "cell_type": "markdown",
   "metadata": {},
   "source": [
    "## 3. Stability of fixed points"
   ]
  },
  {
   "cell_type": "markdown",
   "metadata": {},
   "source": [
    "<strong>A cautionary tale</strong>: I had intially taught that a <em>complex Hessian</em> would give what we intended for i.e determine minmias and maximas and saddles but saddly it turns out to <strong>not</strong> be true in general, it turns out the \"complex hessian\" tends to be only half of the real hessian and is used to identify plurisubharmonic functions, I found this  counter example to maybe see why this would be the case:\n",
    "\n",
    "Consider the following function $f(z) = x^{2}-y^{2} = \\cfrac{z^{2}+z^{* 2}}{2}$ , one may always see $\\mathbb{C} \\cong \\mathbb{R}^{2}$ as follows $z=x+iy$ thus we may consider the real hessian of the function $f:\\mathbb{R}^{2} \\rightarrow \\mathbb{R}$,\n",
    "\n",
    "$$ H = \\begin{bmatrix}\n",
    " f_{xx} & f_{xy}\\\\\n",
    "          f_{yx} & f_{yy}\n",
    "\\end{bmatrix}  = \\begin{bmatrix}\n",
    "          2 & 0\\\\\n",
    "          0 & -2\n",
    "        \\end{bmatrix}, $$\n",
    "which gives us that $f$ has a saddle point at $z=0$ <strong>but</strong> if we had considered the complex hessian \n",
    "$$ H = \\cfrac{\\partial^{2}f}{\\partial z^{*}\\partial z} = 0$$\n",
    "which is inconclusive thus it serves us better to consider the real hessian instead to avoid mistakes. However I think I've found the full <em>real Hessian</em> in terms of $z$ and $z^{*}$ just to continue the above example\n",
    "$$ H = \\begin{bmatrix}\n",
    " f_{zz^{*}} & f_{z^{*}z^{*}}\\\\\n",
    "          f_{zz} & f_{z^{*}z}\n",
    "\\end{bmatrix}  = \\begin{bmatrix}\n",
    "          0 & 1\\\\\n",
    "          1 & 0\n",
    "        \\end{bmatrix}, $$\n",
    "which has eigen values $\\pm 1$, thus $f$ has a saddle point as expected!\n",
    "\n",
    "edit: This is what confirmed suspiscions cause I got too simple results intially https://math.stackexchange.com/questions/2015771/hessian-for-complex (specifically the second answer), I think I found something useful instead of the procedure turning everything into real variables, I did a bit of reading of the following books which I fould useful: https://www.cambridge.org/core/books/complexvalued-matrix-derivatives/background-material/0EDF69272882D0485AEFB033831212E2 (chapter 5 is the useful one but bewarned the notation is dense and they look at it in general for matrix valued functions so a bit overkill) ,  https://www.jirka.org/scv/scv.pdf (specifically page 67; I will attach a derivation to see how there related at the end of the notebook)"
   ]
  },
  {
   "cell_type": "markdown",
   "metadata": {},
   "source": [
    "Lets define the complex <em>complex hessian</em> of the function $F: \\mathbb{C^{2}} \\rightarrow \\mathbb{R} \\subset \\mathbb{C}$ as follows\n",
    "$$\n",
    "H = \\begin{bmatrix}\n",
    "\\cfrac{\\partial^{2}F}{\\partial{\\psi^{*}_{1}}\\partial{\\psi_{1}}} & \\cfrac{\\partial^{2}F}{\\partial{\\psi^{*}_{2}}\\partial{\\psi_{1}}}\\\\\n",
    "\\cfrac{\\partial^{2}F}{\\partial{\\psi^{*}_{1}}\\partial{\\psi_{2}}} & \\cfrac{\\partial^{2}F}{\\partial{\\psi^{*}_{2}}\\partial{\\psi_{2}}}\n",
    "\\end{bmatrix}\n",
    "$$\t\n",
    "or in index notation $H_{ij}=\\cfrac{\\partial^{2}F}{\\partial{\\psi^{*}_{i}}\\partial \\psi_{j}}$. More importantly the <em>real hessian</em> for $F$ is defined as follows\n",
    "$$ H = \\begin{bmatrix}\n",
    "\\cfrac{\\partial^{2}F}{\\partial{\\psi^{*}_{1}}\\partial{\\psi_{1}}} & \\cfrac{\\partial^{2}F}{\\partial{\\psi^{*}_{2}}\\partial{\\psi_{1}}} &  \\cfrac{\\partial^{2}F}{\\partial{\\psi^{*}_{1}}\\partial{\\psi^{*}_{1}}} & \\cfrac{\\partial^{2}F}{\\partial{\\psi^{*}_{2}}\\partial{\\psi^{*}_{1}}} \\\\\n",
    "\\cfrac{\\partial^{2}F}{\\partial{\\psi^{*}_{1}}\\partial{\\psi_{2}}} & \\cfrac{\\partial^{2}F}{\\partial{\\psi^{*}_{2}}\\partial{\\psi_{2}}} & \\cfrac{\\partial^{2}F}{\\partial{\\psi^{*}_{1}}\\partial{\\psi^{*}_{2}}} & \\cfrac{\\partial^{2}F}{\\partial{\\psi^{*}_{2}}\\partial{\\psi^{*}_{2}}} \\\\ \\cfrac{\\partial^{2}F}{\\partial{\\psi_{1}}\\partial{\\psi_{1}}} & \\cfrac{\\partial^{2}F}{\\partial{\\psi_{2}}\\partial{\\psi_{1}}} &  \\cfrac{\\partial^{2}F}{\\partial{\\psi_{1}}\\partial{\\psi^{*}_{1}}} & \\cfrac{\\partial^{2}F}{\\partial{\\psi_{2}}\\partial{\\psi^{*}_{1}}} \\\\\n",
    "\\cfrac{\\partial^{2}F}{\\partial{\\psi_{1}}\\partial{\\psi_{2}}} & \\cfrac{\\partial^{2}F}{\\partial{\\psi_{2}}\\partial{\\psi_{2}}} & \\cfrac{\\partial^{2}F}{\\partial{\\psi_{1}}\\partial{\\psi^{*}_{2}}} & \\cfrac{\\partial^{2}F}{\\partial{\\psi_{2}}\\partial{\\psi^{*}_{2}}} \n",
    "\\end{bmatrix}$$\n",
    "\n",
    "page 102 chapter 5 (5.25) of https://www.cambridge.org/core/books/complexvalued-matrix-derivatives/background-material/\n",
    "\n",
    "\n",
    "or alternatively page 67 https://www.cambridge.org/core/books/complexvalued-matrix-derivatives/background-material/ \n",
    "\n",
    "<strong>Remark</strong>: Sylvester’s law of inertia from linear\n",
    "algebra says star-congruence preserves the inertia (the number of positive, negative, and\n",
    "zero eigenvalues). So the inertia of the full Hessian in terms of $x$'s and $y$'s is the same\n",
    "as for the full Hessian in terms of $z$'s and $z^{*}$'s. \n",
    "\n"
   ]
  },
  {
   "cell_type": "code",
   "execution_count": 70,
   "metadata": {},
   "outputs": [
    {
     "data": {
      "text/latex": [
       "$\\displaystyle \\left[\\begin{matrix}\\frac{A}{3} + \\frac{4 C \\psi_{1} \\overline{\\psi_{1}}}{9} - \\frac{2 C \\psi_{1} \\overline{\\psi_{2}}}{9} - \\frac{2 C \\psi_{2} \\overline{\\psi_{1}}}{9} + \\frac{5 C \\psi_{2} \\overline{\\psi_{2}}}{18} + \\frac{2 D \\psi_{1} \\overline{\\psi_{1}}}{9} - \\frac{D \\psi_{1} \\overline{\\psi_{2}}}{9} - \\frac{D \\psi_{2} \\overline{\\psi_{1}}}{9} + \\frac{D \\psi_{2} \\overline{\\psi_{2}}}{9} & - \\frac{A}{6} - \\frac{2 C \\psi_{1} \\overline{\\psi_{1}}}{9} + \\frac{5 C \\psi_{1} \\overline{\\psi_{2}}}{18} + \\frac{C \\psi_{2} \\overline{\\psi_{1}}}{9} - \\frac{2 C \\psi_{2} \\overline{\\psi_{2}}}{9} - \\frac{D \\psi_{1} \\overline{\\psi_{1}}}{9} + \\frac{D \\psi_{1} \\overline{\\psi_{2}}}{9} + \\frac{D \\psi_{2} \\overline{\\psi_{1}}}{9} - \\frac{D \\psi_{2} \\overline{\\psi_{2}}}{9}\\\\- \\frac{A}{6} - \\frac{2 C \\psi_{1} \\overline{\\psi_{1}}}{9} + \\frac{C \\psi_{1} \\overline{\\psi_{2}}}{9} + \\frac{5 C \\psi_{2} \\overline{\\psi_{1}}}{18} - \\frac{2 C \\psi_{2} \\overline{\\psi_{2}}}{9} - \\frac{D \\psi_{1} \\overline{\\psi_{1}}}{9} + \\frac{D \\psi_{1} \\overline{\\psi_{2}}}{9} + \\frac{D \\psi_{2} \\overline{\\psi_{1}}}{9} - \\frac{D \\psi_{2} \\overline{\\psi_{2}}}{9} & \\frac{A}{3} + \\frac{5 C \\psi_{1} \\overline{\\psi_{1}}}{18} - \\frac{2 C \\psi_{1} \\overline{\\psi_{2}}}{9} - \\frac{2 C \\psi_{2} \\overline{\\psi_{1}}}{9} + \\frac{4 C \\psi_{2} \\overline{\\psi_{2}}}{9} + \\frac{D \\psi_{1} \\overline{\\psi_{1}}}{9} - \\frac{D \\psi_{1} \\overline{\\psi_{2}}}{9} - \\frac{D \\psi_{2} \\overline{\\psi_{1}}}{9} + \\frac{2 D \\psi_{2} \\overline{\\psi_{2}}}{9}\\end{matrix}\\right]$"
      ],
      "text/plain": [
       "Matrix([\n",
       "[A/3 + 4*C*psi1*conjugate(psi1)/9 - 2*C*psi1*conjugate(psi2)/9 - 2*C*psi2*conjugate(psi1)/9 + 5*C*psi2*conjugate(psi2)/18 + 2*D*psi1*conjugate(psi1)/9 - D*psi1*conjugate(psi2)/9 - D*psi2*conjugate(psi1)/9 + D*psi2*conjugate(psi2)/9,    -A/6 - 2*C*psi1*conjugate(psi1)/9 + 5*C*psi1*conjugate(psi2)/18 + C*psi2*conjugate(psi1)/9 - 2*C*psi2*conjugate(psi2)/9 - D*psi1*conjugate(psi1)/9 + D*psi1*conjugate(psi2)/9 + D*psi2*conjugate(psi1)/9 - D*psi2*conjugate(psi2)/9],\n",
       "[   -A/6 - 2*C*psi1*conjugate(psi1)/9 + C*psi1*conjugate(psi2)/9 + 5*C*psi2*conjugate(psi1)/18 - 2*C*psi2*conjugate(psi2)/9 - D*psi1*conjugate(psi1)/9 + D*psi1*conjugate(psi2)/9 + D*psi2*conjugate(psi1)/9 - D*psi2*conjugate(psi2)/9, A/3 + 5*C*psi1*conjugate(psi1)/18 - 2*C*psi1*conjugate(psi2)/9 - 2*C*psi2*conjugate(psi1)/9 + 4*C*psi2*conjugate(psi2)/9 + D*psi1*conjugate(psi1)/9 - D*psi1*conjugate(psi2)/9 - D*psi2*conjugate(psi1)/9 + 2*D*psi2*conjugate(psi2)/9]])"
      ]
     },
     "execution_count": 70,
     "metadata": {},
     "output_type": "execute_result"
    }
   ],
   "source": [
    "##Computing the complex hessian\n",
    "H1i = sp.diff(F_sub, psi1c)\n",
    "H2i = sp.diff(F_sub, psi2c)\n",
    "H11 = sp.diff(H1i,psi1)\n",
    "H12 = sp.diff(H1i,psi2)\n",
    "H21 = sp.diff(H2i,psi1)\n",
    "H22 = sp.diff(H2i,psi2)\n",
    "H = sp.Matrix([\n",
    "  [H11, H12],\n",
    "  [H21, H22]\n",
    "])\n",
    "sp.simplify(H).subs({ psi1c: sp.conjugate(psi1), psi2c: sp.conjugate(psi2) })\n",
    "\n",
    "\n"
   ]
  },
  {
   "cell_type": "code",
   "execution_count": 86,
   "metadata": {},
   "outputs": [
    {
     "data": {
      "text/latex": [
       "$\\displaystyle \\left[\\begin{matrix}\\frac{A}{3} + \\frac{4 C \\psi_{1} \\overline{\\psi_{1}}}{9} + \\frac{2 D \\psi_{1} \\overline{\\psi_{1}}}{9} & \\frac{2 C \\overline{\\psi_{1}}^{2}}{9} + \\frac{D \\overline{\\psi_{1}}^{2}}{9} & - \\frac{A}{6} - \\frac{2 C \\psi_{1} \\overline{\\psi_{1}}}{9} - \\frac{D \\psi_{1} \\overline{\\psi_{1}}}{9} & - \\frac{C \\overline{\\psi_{1}}^{2}}{9} - \\frac{D \\overline{\\psi_{1}}^{2}}{18}\\\\\\frac{2 C \\psi_{1}^{2}}{9} + \\frac{D \\psi_{1}^{2}}{9} & \\frac{A}{3} + \\frac{4 C \\psi_{1} \\overline{\\psi_{1}}}{9} + \\frac{2 D \\psi_{1} \\overline{\\psi_{1}}}{9} & - \\frac{C \\psi_{1}^{2}}{9} - \\frac{D \\psi_{1}^{2}}{18} & - \\frac{A}{6} - \\frac{2 C \\psi_{1} \\overline{\\psi_{1}}}{9} - \\frac{D \\psi_{1} \\overline{\\psi_{1}}}{9}\\\\- \\frac{A}{6} - \\frac{2 C \\psi_{1} \\overline{\\psi_{1}}}{9} - \\frac{D \\psi_{1} \\overline{\\psi_{1}}}{9} & - \\frac{C \\overline{\\psi_{1}}^{2}}{9} - \\frac{D \\overline{\\psi_{1}}^{2}}{18} & \\frac{A}{3} + \\frac{5 C \\psi_{1} \\overline{\\psi_{1}}}{18} + \\frac{D \\psi_{1} \\overline{\\psi_{1}}}{9} & \\frac{C \\overline{\\psi_{1}}^{2}}{18} + \\frac{D \\overline{\\psi_{1}}^{2}}{18}\\\\- \\frac{C \\psi_{1}^{2}}{9} - \\frac{D \\psi_{1}^{2}}{18} & - \\frac{A}{6} - \\frac{2 C \\psi_{1} \\overline{\\psi_{1}}}{9} - \\frac{D \\psi_{1} \\overline{\\psi_{1}}}{9} & \\frac{C \\psi_{1}^{2}}{18} + \\frac{D \\psi_{1}^{2}}{18} & \\frac{A}{3} + \\frac{5 C \\psi_{1} \\overline{\\psi_{1}}}{18} + \\frac{D \\psi_{1} \\overline{\\psi_{1}}}{9}\\end{matrix}\\right]$"
      ],
      "text/plain": [
       "Matrix([\n",
       "[A/3 + 4*C*psi1*conjugate(psi1)/9 + 2*D*psi1*conjugate(psi1)/9,             2*C*conjugate(psi1)**2/9 + D*conjugate(psi1)**2/9, -A/6 - 2*C*psi1*conjugate(psi1)/9 - D*psi1*conjugate(psi1)/9,            -C*conjugate(psi1)**2/9 - D*conjugate(psi1)**2/18],\n",
       "[                                  2*C*psi1**2/9 + D*psi1**2/9, A/3 + 4*C*psi1*conjugate(psi1)/9 + 2*D*psi1*conjugate(psi1)/9,                                  -C*psi1**2/9 - D*psi1**2/18, -A/6 - 2*C*psi1*conjugate(psi1)/9 - D*psi1*conjugate(psi1)/9],\n",
       "[ -A/6 - 2*C*psi1*conjugate(psi1)/9 - D*psi1*conjugate(psi1)/9,             -C*conjugate(psi1)**2/9 - D*conjugate(psi1)**2/18, A/3 + 5*C*psi1*conjugate(psi1)/18 + D*psi1*conjugate(psi1)/9,            C*conjugate(psi1)**2/18 + D*conjugate(psi1)**2/18],\n",
       "[                                  -C*psi1**2/9 - D*psi1**2/18,  -A/6 - 2*C*psi1*conjugate(psi1)/9 - D*psi1*conjugate(psi1)/9,                                  C*psi1**2/18 + D*psi1**2/18, A/3 + 5*C*psi1*conjugate(psi1)/18 + D*psi1*conjugate(psi1)/9]])"
      ]
     },
     "execution_count": 86,
     "metadata": {},
     "output_type": "execute_result"
    }
   ],
   "source": [
    "# Specify the row and column ordering you want to match the block pattern:\n",
    "# rows: (psi1, psi1*, psi2, psi2*)\n",
    "row_vars = [psi1, psi1c, psi2, psi2c]\n",
    "# columns: (psi1*, psi1, psi2*, psi2)\n",
    "col_vars = [psi1c, psi1, psi2c, psi2]\n",
    "\n",
    "# Build the full 4x4 Hessian with separate row/column ordering\n",
    "H_full = sp.Matrix([[sp.diff(F_sub, rv, cv) for cv in col_vars] for rv in row_vars])\n",
    "\n",
    "# Simplify and substitute conjugate placeholders\n",
    "H_full_simpl = sp.simplify(H_full).subs({\n",
    "    psi1c: sp.conjugate(psi1),\n",
    "    psi2c: sp.conjugate(psi2)\n",
    "})\n",
    "\n",
    "# H_full_simpl is the 4x4 Hessian with your desired block ordering\n",
    "H_full_simpl.subs({ psi1c: sp.conjugate(psi1), psi2c: 0 ,psi2: 0})\n"
   ]
  },
  {
   "cell_type": "code",
   "execution_count": 71,
   "metadata": {},
   "outputs": [
    {
     "data": {
      "text/latex": [
       "$\\displaystyle \\left[\\begin{matrix}\\frac{A}{3} + \\frac{4 C \\psi_{1} \\overline{\\psi_{1}}}{9} + \\frac{2 D \\psi_{1} \\overline{\\psi_{1}}}{9} & - \\frac{A}{6} - \\frac{2 C \\psi_{1} \\overline{\\psi_{1}}}{9} - \\frac{D \\psi_{1} \\overline{\\psi_{1}}}{9}\\\\- \\frac{A}{6} - \\frac{2 C \\psi_{1} \\overline{\\psi_{1}}}{9} - \\frac{D \\psi_{1} \\overline{\\psi_{1}}}{9} & \\frac{A}{3} + \\frac{5 C \\psi_{1} \\overline{\\psi_{1}}}{18} + \\frac{D \\psi_{1} \\overline{\\psi_{1}}}{9}\\end{matrix}\\right]$"
      ],
      "text/plain": [
       "Matrix([\n",
       "[A/3 + 4*C*psi1*conjugate(psi1)/9 + 2*D*psi1*conjugate(psi1)/9, -A/6 - 2*C*psi1*conjugate(psi1)/9 - D*psi1*conjugate(psi1)/9],\n",
       "[ -A/6 - 2*C*psi1*conjugate(psi1)/9 - D*psi1*conjugate(psi1)/9, A/3 + 5*C*psi1*conjugate(psi1)/18 + D*psi1*conjugate(psi1)/9]])"
      ]
     },
     "execution_count": 71,
     "metadata": {},
     "output_type": "execute_result"
    }
   ],
   "source": [
    "##evaluated at psi2 = 0\n",
    "Hstar = sp.simplify(H).subs({ psi1c: sp.conjugate(psi1), psi2c: 0 ,psi2: 0})\n",
    "sp.simplify(Hstar)"
   ]
  },
  {
   "cell_type": "code",
   "execution_count": 72,
   "metadata": {},
   "outputs": [
    {
     "data": {
      "text/latex": [
       "$\\displaystyle \\frac{A^{2}}{12} + \\frac{A C \\psi_{1} \\overline{\\psi_{1}}}{6} + \\frac{2 A D \\psi_{1} \\overline{\\psi_{1}}}{27} + \\frac{2 C^{2} \\psi_{1}^{2} \\overline{\\psi_{1}}^{2}}{27} + \\frac{5 C D \\psi_{1}^{2} \\overline{\\psi_{1}}^{2}}{81} + \\frac{D^{2} \\psi_{1}^{2} \\overline{\\psi_{1}}^{2}}{81}$"
      ],
      "text/plain": [
       "A**2/12 + A*C*psi1*conjugate(psi1)/6 + 2*A*D*psi1*conjugate(psi1)/27 + 2*C**2*psi1**2*conjugate(psi1)**2/27 + 5*C*D*psi1**2*conjugate(psi1)**2/81 + D**2*psi1**2*conjugate(psi1)**2/81"
      ]
     },
     "execution_count": 72,
     "metadata": {},
     "output_type": "execute_result"
    }
   ],
   "source": [
    "##determinant of the hessian\n",
    "Hstar.det()"
   ]
  },
  {
   "cell_type": "code",
   "execution_count": 73,
   "metadata": {},
   "outputs": [
    {
     "data": {
      "text/latex": [
       "$\\displaystyle \\left[\\begin{matrix}- \\frac{A}{3} & \\frac{A}{6}\\\\\\frac{A}{6} & - \\frac{A C}{12 C + 6 D}\\end{matrix}\\right]$"
      ],
      "text/plain": [
       "Matrix([\n",
       "[-A/3,               A/6],\n",
       "[ A/6, -A*C/(12*C + 6*D)]])"
      ]
     },
     "execution_count": 73,
     "metadata": {},
     "output_type": "execute_result"
    }
   ],
   "source": [
    "## Hessian evaluated at f.p.\n",
    "r=sp.sqrt(3*A/(2*C+D))\n",
    "H_eval=Hstar.subs({psi1:-1*r,sp.conjugate(psi1):r})\n",
    "sp.simplify(H_eval)"
   ]
  },
  {
   "cell_type": "code",
   "execution_count": 74,
   "metadata": {},
   "outputs": [
    {
     "data": {
      "text/latex": [
       "$\\displaystyle - \\frac{A^{2} D}{72 C + 36 D}$"
      ],
      "text/plain": [
       "-A**2*D/(72*C + 36*D)"
      ]
     },
     "execution_count": 74,
     "metadata": {},
     "output_type": "execute_result"
    }
   ],
   "source": [
    "r=sp.sqrt(3*A/(2*C+D))\n",
    "Hdet = Hstar.det().subs({psi1:-1*r,sp.conjugate(psi1):r})\n",
    "sp.simplify(Hdet)\n"
   ]
  },
  {
   "cell_type": "code",
   "execution_count": 75,
   "metadata": {},
   "outputs": [
    {
     "data": {
      "text/latex": [
       "$\\displaystyle \\left\\{ \\frac{A \\left(- 5 C - 2 D - \\sqrt{25 C^{2} + 28 C D + 8 D^{2}}\\right)}{12 \\cdot \\left(2 C + D\\right)} : 1, \\  \\frac{A \\left(- 5 C - 2 D + \\sqrt{25 C^{2} + 28 C D + 8 D^{2}}\\right)}{12 \\cdot \\left(2 C + D\\right)} : 1\\right\\}$"
      ],
      "text/plain": [
       "{A*(-5*C - 2*D - sqrt(25*C**2 + 28*C*D + 8*D**2))/(12*(2*C + D)): 1, A*(-5*C - 2*D + sqrt(25*C**2 + 28*C*D + 8*D**2))/(12*(2*C + D)): 1}"
      ]
     },
     "execution_count": 75,
     "metadata": {},
     "output_type": "execute_result"
    }
   ],
   "source": [
    "H_sub = Hstar.subs({psi1: -r, sp.conjugate(psi1): r})\n",
    "eigs = H_sub.eigenvals() \n",
    "eigs_simpl = { sp.simplify(ev): m for ev, m in eigs.items() }\n",
    "\n",
    "sp.simplify(eigs_simpl) "
   ]
  },
  {
   "cell_type": "markdown",
   "metadata": {},
   "source": [
    "Thus the determinant of the Hessian is given by\n",
    "$$\\text{det}(H) = \\cfrac{-AD^{2}}{74C + 36D}$$"
   ]
  },
  {
   "cell_type": "code",
   "execution_count": 76,
   "metadata": {},
   "outputs": [
    {
     "data": {
      "text/latex": [
       "$\\displaystyle - \\frac{A^{2} D}{72 C + 36 D}$"
      ],
      "text/plain": [
       "-A**2*D/(72*C + 36*D)"
      ]
     },
     "execution_count": 76,
     "metadata": {},
     "output_type": "execute_result"
    }
   ],
   "source": [
    "expr = (\n",
    "      (A*A)/12\n",
    "    + (A*C)/6      * (-3*A/(2*C + D))\n",
    "    + 2*(A*D)/27   * (-3*A/(2*C + D))\n",
    "    + (2*C**2)/27     * (-3*A/(2*C + D))**2\n",
    "    + (5*C*D)/81   * (-3*A/(2*C + D))**2\n",
    "    + (D**2)/81    * (-3*A/(2*C + D))**2\n",
    ")\n",
    "\n",
    "sp.simplify(expr)"
   ]
  },
  {
   "cell_type": "code",
   "execution_count": 77,
   "metadata": {},
   "outputs": [
    {
     "data": {
      "image/png": "[encoded data removed]",
      "text/plain": [
       "<Figure size 700x600 with 2 Axes>"
      ]
     },
     "metadata": {},
     "output_type": "display_data"
    }
   ],
   "source": [
    "import numpy as np\n",
    "import matplotlib.pyplot as plt\n",
    "from matplotlib.colors import ListedColormap\n",
    "\n",
    "# Parameters\n",
    "A = -1\n",
    "C_vals = np.linspace(-1.5, 1.5, 400)\n",
    "D_vals = np.linspace(-1.5, 1.5, 400)\n",
    "C, D = np.meshgrid(C_vals, D_vals)\n",
    "\n",
    "# Compute determinant det(H) = -A * D^2 / (74*C + 36*D)\n",
    "denominator = 74 * C + 36 * D\n",
    "detH = np.full_like(C, np.nan, dtype=float)\n",
    "valid = np.abs(denominator) > 1e-6\n",
    "detH[valid] = -A * D[valid]**2 / denominator[valid]\n",
    "\n",
    "# Create mask: 1 if detH>0, 0 if detH<0\n",
    "mask = np.zeros_like(detH, dtype=int)\n",
    "mask[detH > 0] = 1\n",
    "\n",
    "# Define two-color map: red for 0, blue for 1\n",
    "cmap = ListedColormap(['red', 'blue'])\n",
    "\n",
    "# Plot\n",
    "plt.figure(figsize=(7,6))\n",
    "plt.pcolormesh(C, D, mask, cmap=cmap, shading='auto')\n",
    "plt.colorbar(ticks=[0,1], label='Sign of det(H)')\n",
    "plt.clim(-0.5, 1.5)\n",
    "plt.xlabel('C')\n",
    "plt.ylabel('D')\n",
    "plt.title('Sign of det(H) for A = -1\\nBlue: det(H)>0, Red: det(H)<0\\nDomain: C, D ∈ [-1.5,1.5]')\n",
    "plt.show()"
   ]
  },
  {
   "cell_type": "code",
   "execution_count": 78,
   "metadata": {},
   "outputs": [
    {
     "data": {
      "image/png": "[encoded data removed]",
      "text/plain": [
       "<Figure size 700x600 with 2 Axes>"
      ]
     },
     "metadata": {},
     "output_type": "display_data"
    }
   ],
   "source": [
    "# Fixed parameter\n",
    "A = -1\n",
    "\n",
    "# Grid for C and D\n",
    "C_vals = np.linspace(-1.5, 1.5, 400)\n",
    "D_vals = np.linspace(-1.5, 1.5, 400)\n",
    "C, D = np.meshgrid(C_vals, D_vals)\n",
    "\n",
    "# Avoid singularity where denominator is zero\n",
    "den = 12 * (2*C + D)\n",
    "valid = np.abs(den) > 1e-6\n",
    "\n",
    "# Compute the discriminant inside the square root\n",
    "disc = 25*C**2 + 28*C*D + 8*D**2\n",
    "sqrt_disc = np.sqrt(disc)\n",
    "\n",
    "# Compute the two eigenvalues λ1 and λ2\n",
    "num1 = A * (-5*C - 2*D - sqrt_disc)\n",
    "num2 = A * (-5*C - 2*D + sqrt_disc)\n",
    "lambda1 = np.zeros_like(C, dtype=complex)\n",
    "lambda2 = np.zeros_like(C, dtype=complex)\n",
    "lambda1[valid] = num1[valid] / den[valid]\n",
    "lambda2[valid] = num2[valid] / den[valid]\n",
    "\n",
    "# Compute the product of their real parts\n",
    "prod_real = np.real(lambda1) * np.real(lambda2)\n",
    "\n",
    "# Create a mask: 1 if positive, 0 if negative or zero\n",
    "mask = np.zeros_like(prod_real, dtype=int)\n",
    "mask[prod_real > 0] = 1\n",
    "\n",
    "# Define a two-color map: red for negative, blue for positive\n",
    "cmap = ListedColormap(['red', 'blue'])\n",
    "\n",
    "# Plot the heatmap\n",
    "plt.figure(figsize=(7, 6))\n",
    "plt.pcolormesh(C, D, mask, cmap=cmap, shading='auto')\n",
    "plt.colorbar(ticks=[0, 1], label='Sign of Re(λ1)*Re(λ2)')\n",
    "plt.clim(-0.5, 1.5)\n",
    "plt.xlabel('C')\n",
    "plt.ylabel('D')\n",
    "plt.title('Sign of Re(λ1) × Re(λ2) for A = -1\\nBlue: > 0, Red: < 0\\nC,D ∈ [-1.5, 1.5]')\n",
    "plt.show()"
   ]
  },
  {
   "cell_type": "code",
   "execution_count": 79,
   "metadata": {},
   "outputs": [
    {
     "data": {
      "image/png": "[encoded data removed]",
      "text/plain": [
       "<Figure size 700x600 with 2 Axes>"
      ]
     },
     "metadata": {},
     "output_type": "display_data"
    }
   ],
   "source": [
    "# Fixed parameter\n",
    "A = -1\n",
    "\n",
    "# Grid for C and D\n",
    "C_vals = np.linspace(-1.5, 1.5, 400)\n",
    "D_vals = np.linspace(-1.5, 1.5, 400)\n",
    "C, D = np.meshgrid(C_vals, D_vals)\n",
    "\n",
    "# Avoid singularity where denominator is zero\n",
    "den = 12 * (2*C + D)\n",
    "valid = np.abs(den) > 1e-6\n",
    "\n",
    "# Compute discriminant inside sqrt\n",
    "disc = 25*C**2 + 28*C*D + 8*D**2\n",
    "sqrt_disc = np.sqrt(disc)\n",
    "\n",
    "# Compute eigenvalues λ1 and λ2\n",
    "num1 = A * (-5*C - 2*D - sqrt_disc)\n",
    "num2 = A * (-5*C - 2*D + sqrt_disc)\n",
    "lambda1 = np.zeros_like(C, dtype=complex)\n",
    "lambda2 = np.zeros_like(C, dtype=complex)\n",
    "lambda1[valid] = num1[valid] / den[valid]\n",
    "lambda2[valid] = num2[valid] / den[valid]\n",
    "\n",
    "# Determine mask: red if any Re(λ) > 0, blue otherwise\n",
    "mask = np.zeros_like(C, dtype=int)  # 0->blue, 1->red\n",
    "mask[(np.real(lambda1) > 0) | (np.real(lambda2) > 0)] = 1\n",
    "\n",
    "# Define colormap: blue for 0, red for 1\n",
    "cmap = ListedColormap(['blue', 'red'])\n",
    "\n",
    "# Plot the heatmap\n",
    "plt.figure(figsize=(7, 6))\n",
    "plt.pcolormesh(C, D, mask, cmap=cmap, shading='auto')\n",
    "plt.colorbar(ticks=[0, 1], label='Region')\n",
    "plt.clim(-0.5, 1.5)\n",
    "plt.xlabel('C')\n",
    "plt.ylabel('D')\n",
    "plt.title('Regions where any Re(λ_i)>0\\nRed: any positive, Blue: all ≤ 0\\nC,D ∈ [-1.5,1.5]')\n",
    "plt.show()"
   ]
  },
  {
   "cell_type": "markdown",
   "metadata": {},
   "source": [
    "# Appendix \n",
    "## A1. Real Hessian in $z,z^{*}$\n",
    "Let\n",
    "$$\n",
    "u = \\begin{pmatrix}x\\\\y\\end{pmatrix}, \n",
    "\\quad\n",
    "v = \\begin{pmatrix}z\\\\\\ z^{*}\\end{pmatrix},\n",
    "$$\n",
    "with\n",
    "$$\n",
    "z = x + i\\,y,\n",
    "\\quad\n",
    " z^{*} = x - i\\,y.\n",
    "$$\n",
    "\n",
    "Then the change‐of‐variables matrix and its Hermitian adjoint are\n",
    "$$\n",
    "T = \\frac12\n",
    "\\begin{pmatrix}\n",
    "1 & 1\\\\[6pt]\n",
    "-\\,i & i\n",
    "\\end{pmatrix},\n",
    "\\qquad\n",
    "T^* = \\overline{T}^{\\,T}\n",
    "= \\frac12\n",
    "\\begin{pmatrix}\n",
    "1 & i\\\\[6pt]\n",
    "1 & -\\,i\n",
    "\\end{pmatrix}.\n",
    "$$\n",
    "\n",
    "If the real–variable Hessian is\n",
    "$$\n",
    "H_{(x,y)} =\n",
    "\\begin{pmatrix}\n",
    "f_{xx} & f_{xy}\\\\[6pt]\n",
    "f_{yx} & f_{yy}\n",
    "\\end{pmatrix},\n",
    "$$\n",
    "then in the $(z, z^{*})$–coordinates the Hessian transforms as\n",
    "$$\n",
    "H_{(z,z^{*})} \\;=\\;T^*\\,H_{(x,y)}\\,T.\n",
    "$$\n",
    "\n",
    "Carrying out the block‐multiplication gives\n",
    "\\begin{align*}\n",
    "H_{zz}\n",
    "&=\\frac{1}{4}\\bigl(f_{xx}+f_{yy}\\bigr),\\\\[6pt]\n",
    "H_{z z^{*}}\n",
    "&=\\frac{1}{4}\\bigl(f_{xx}-f_{yy}+2\\,i\\,f_{xy}\\bigr),\\\\[6pt]\n",
    "H_{ z^{*} z}\n",
    "&=\\frac{1}{4}\\bigl(f_{xx}-f_{yy}-2\\,i\\,f_{xy}\\bigr),\\\\[6pt]\n",
    "H_{ z^{*} z^{*}}\n",
    "&=\\frac{1}{4}\\bigl(f_{xx}+f_{yy}\\bigr).\n",
    "\\end{align*}\n",
    "\n",
    "Hence\n",
    "$$\n",
    "H_{(z, z^{*})}\n",
    "=\\frac14\n",
    "\\begin{pmatrix}\n",
    "f_{xx}+f_{yy} & f_{xx}-f_{yy}+2\\,i\\,f_{xy}\\\\[6pt]\n",
    "f_{xx}-f_{yy}-2\\,i\\,f_{xy} & f_{xx}+f_{yy}\n",
    "\\end{pmatrix} = \\begin{pmatrix}\n",
    " f_{zz^{*}} & f_{z^{*}z^{*}}\\\\\n",
    "          f_{zz} & f_{z^{*}z}\n",
    "\\end{pmatrix}  .\n",
    "$$\n"
   ]
  }
 ],
 "metadata": {
  "kernelspec": {
   "display_name": "base",
   "language": "python",
   "name": "python3"
  },
  "language_info": {
   "codemirror_mode": {
    "name": "ipython",
    "version": 3
   },
   "file_extension": ".py",
   "mimetype": "text/x-python",
   "name": "python",
   "nbconvert_exporter": "python",
   "pygments_lexer": "ipython3",
   "version": "3.9.13"
  }
 },
 "nbformat": 4,
 "nbformat_minor": 2
}
